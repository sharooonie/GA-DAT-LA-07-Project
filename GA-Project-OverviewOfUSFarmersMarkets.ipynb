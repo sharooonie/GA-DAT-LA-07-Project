{
 "cells": [
  {
   "cell_type": "markdown",
   "metadata": {},
   "source": [
    "#Overview of Farmers' Market Presence in U.S. (as of 7/31/2015)"
   ]
  },
  {
   "cell_type": "code",
   "execution_count": 5,
   "metadata": {
    "collapsed": true
   },
   "outputs": [],
   "source": [
    "import numpy as np\n",
    "import matplotlib.pyplot as plt\n",
    "import pandas as pd\n",
    "from datetime import datetime\n",
    "\n",
    "%matplotlib inline\n",
    "\n",
    "import statsmodels.api as sm"
   ]
  },
  {
   "cell_type": "code",
   "execution_count": 6,
   "metadata": {
    "collapsed": false
   },
   "outputs": [
    {
     "data": {
      "text/html": [
       "<div>\n",
       "<table border=\"1\" class=\"dataframe\">\n",
       "  <thead>\n",
       "    <tr style=\"text-align: right;\">\n",
       "      <th></th>\n",
       "      <th>FMID</th>\n",
       "      <th>MarketName</th>\n",
       "      <th>Website</th>\n",
       "      <th>Facebook</th>\n",
       "      <th>Twitter</th>\n",
       "      <th>Youtube</th>\n",
       "      <th>OtherMedia</th>\n",
       "      <th>street</th>\n",
       "      <th>city</th>\n",
       "      <th>County</th>\n",
       "      <th>...</th>\n",
       "      <th>Coffee</th>\n",
       "      <th>Beans</th>\n",
       "      <th>Fruits</th>\n",
       "      <th>Grains</th>\n",
       "      <th>Juices</th>\n",
       "      <th>Mushrooms</th>\n",
       "      <th>PetFood</th>\n",
       "      <th>Tofu</th>\n",
       "      <th>WildHarvested</th>\n",
       "      <th>updateTime</th>\n",
       "    </tr>\n",
       "  </thead>\n",
       "  <tbody>\n",
       "    <tr>\n",
       "      <th>0</th>\n",
       "      <td>1000618</td>\n",
       "      <td>100-Mile Market</td>\n",
       "      <td>http://www.peoplesfoodco-op.org/</td>\n",
       "      <td>NaN</td>\n",
       "      <td>NaN</td>\n",
       "      <td>NaN</td>\n",
       "      <td>NaN</td>\n",
       "      <td>507 Harrison Street</td>\n",
       "      <td>Kalamazoo</td>\n",
       "      <td>Kalamazoo</td>\n",
       "      <td>...</td>\n",
       "      <td>Y</td>\n",
       "      <td>N</td>\n",
       "      <td>Y</td>\n",
       "      <td>N</td>\n",
       "      <td>N</td>\n",
       "      <td>Y</td>\n",
       "      <td>N</td>\n",
       "      <td>N</td>\n",
       "      <td>Y</td>\n",
       "      <td>4/24/2014 18:22</td>\n",
       "    </tr>\n",
       "    <tr>\n",
       "      <th>1</th>\n",
       "      <td>1009364</td>\n",
       "      <td>106 S. Main Street Farmers Market</td>\n",
       "      <td>http://thetownofsixmile.wordpress.com/</td>\n",
       "      <td>NaN</td>\n",
       "      <td>NaN</td>\n",
       "      <td>NaN</td>\n",
       "      <td>NaN</td>\n",
       "      <td>106 S. Main Street</td>\n",
       "      <td>Six Mile</td>\n",
       "      <td>NaN</td>\n",
       "      <td>...</td>\n",
       "      <td>NaN</td>\n",
       "      <td>NaN</td>\n",
       "      <td>NaN</td>\n",
       "      <td>NaN</td>\n",
       "      <td>NaN</td>\n",
       "      <td>NaN</td>\n",
       "      <td>NaN</td>\n",
       "      <td>NaN</td>\n",
       "      <td>NaN</td>\n",
       "      <td>2013</td>\n",
       "    </tr>\n",
       "    <tr>\n",
       "      <th>2</th>\n",
       "      <td>1010691</td>\n",
       "      <td>10th Steet Community Farmers Market</td>\n",
       "      <td>NaN</td>\n",
       "      <td>NaN</td>\n",
       "      <td>NaN</td>\n",
       "      <td>NaN</td>\n",
       "      <td>http://agrimissouri.com/mo-grown/grodetail.php...</td>\n",
       "      <td>10th Street and Poplar</td>\n",
       "      <td>Lamar</td>\n",
       "      <td>Barton</td>\n",
       "      <td>...</td>\n",
       "      <td>N</td>\n",
       "      <td>N</td>\n",
       "      <td>Y</td>\n",
       "      <td>N</td>\n",
       "      <td>N</td>\n",
       "      <td>N</td>\n",
       "      <td>N</td>\n",
       "      <td>N</td>\n",
       "      <td>N</td>\n",
       "      <td>10/28/2014 9:49</td>\n",
       "    </tr>\n",
       "    <tr>\n",
       "      <th>3</th>\n",
       "      <td>1002454</td>\n",
       "      <td>112st Madison Avenue</td>\n",
       "      <td>NaN</td>\n",
       "      <td>NaN</td>\n",
       "      <td>NaN</td>\n",
       "      <td>NaN</td>\n",
       "      <td>NaN</td>\n",
       "      <td>112th Madison Avenue</td>\n",
       "      <td>New York</td>\n",
       "      <td>New York</td>\n",
       "      <td>...</td>\n",
       "      <td>N</td>\n",
       "      <td>N</td>\n",
       "      <td>N</td>\n",
       "      <td>N</td>\n",
       "      <td>N</td>\n",
       "      <td>N</td>\n",
       "      <td>N</td>\n",
       "      <td>N</td>\n",
       "      <td>N</td>\n",
       "      <td>3/1/2012 10:38</td>\n",
       "    </tr>\n",
       "    <tr>\n",
       "      <th>4</th>\n",
       "      <td>1011100</td>\n",
       "      <td>12 South Farmers Market</td>\n",
       "      <td>http://www.12southfarmersmarket.com</td>\n",
       "      <td>12_South_Farmers_Market</td>\n",
       "      <td>@12southfrmsmkt</td>\n",
       "      <td>NaN</td>\n",
       "      <td>@12southfrmsmkt</td>\n",
       "      <td>3000 Granny White Pike</td>\n",
       "      <td>Nashville</td>\n",
       "      <td>Davidson</td>\n",
       "      <td>...</td>\n",
       "      <td>Y</td>\n",
       "      <td>N</td>\n",
       "      <td>Y</td>\n",
       "      <td>N</td>\n",
       "      <td>Y</td>\n",
       "      <td>Y</td>\n",
       "      <td>Y</td>\n",
       "      <td>N</td>\n",
       "      <td>N</td>\n",
       "      <td>5/1/2015 10:40</td>\n",
       "    </tr>\n",
       "  </tbody>\n",
       "</table>\n",
       "<p>5 rows × 60 columns</p>\n",
       "</div>"
      ],
      "text/plain": [
       "      FMID                           MarketName  \\\n",
       "0  1000618                      100-Mile Market   \n",
       "1  1009364    106 S. Main Street Farmers Market   \n",
       "2  1010691  10th Steet Community Farmers Market   \n",
       "3  1002454                 112st Madison Avenue   \n",
       "4  1011100              12 South Farmers Market   \n",
       "\n",
       "                                  Website                 Facebook  \\\n",
       "0        http://www.peoplesfoodco-op.org/                      NaN   \n",
       "1  http://thetownofsixmile.wordpress.com/                      NaN   \n",
       "2                                     NaN                      NaN   \n",
       "3                                     NaN                      NaN   \n",
       "4     http://www.12southfarmersmarket.com  12_South_Farmers_Market   \n",
       "\n",
       "           Twitter Youtube                                         OtherMedia  \\\n",
       "0              NaN     NaN                                                NaN   \n",
       "1              NaN     NaN                                                NaN   \n",
       "2              NaN     NaN  http://agrimissouri.com/mo-grown/grodetail.php...   \n",
       "3              NaN     NaN                                                NaN   \n",
       "4  @12southfrmsmkt     NaN                                    @12southfrmsmkt   \n",
       "\n",
       "                   street       city     County       ...        Coffee Beans  \\\n",
       "0     507 Harrison Street  Kalamazoo  Kalamazoo       ...             Y     N   \n",
       "1      106 S. Main Street   Six Mile        NaN       ...           NaN   NaN   \n",
       "2  10th Street and Poplar     Lamar      Barton       ...             N     N   \n",
       "3    112th Madison Avenue   New York   New York       ...             N     N   \n",
       "4  3000 Granny White Pike  Nashville   Davidson       ...             Y     N   \n",
       "\n",
       "  Fruits Grains Juices Mushrooms PetFood Tofu WildHarvested       updateTime  \n",
       "0      Y      N      N         Y       N    N             Y  4/24/2014 18:22  \n",
       "1    NaN    NaN    NaN       NaN     NaN  NaN           NaN             2013  \n",
       "2      Y      N      N         N       N    N             N  10/28/2014 9:49  \n",
       "3      N      N      N         N       N    N             N   3/1/2012 10:38  \n",
       "4      Y      N      Y         Y       Y    N             N   5/1/2015 10:40  \n",
       "\n",
       "[5 rows x 60 columns]"
      ]
     },
     "execution_count": 6,
     "metadata": {},
     "output_type": "execute_result"
    }
   ],
   "source": [
    "#import the file and check the first and last rows\n",
    "\n",
    "markets = pd.read_csv(\"../GA-DAT-LA-07-Project/Export-5.csv\")\n",
    "markets.head()\n"
   ]
  },
  {
   "cell_type": "code",
   "execution_count": 7,
   "metadata": {
    "collapsed": false
   },
   "outputs": [
    {
     "data": {
      "text/html": [
       "<div>\n",
       "<table border=\"1\" class=\"dataframe\">\n",
       "  <thead>\n",
       "    <tr style=\"text-align: right;\">\n",
       "      <th></th>\n",
       "      <th>FMID</th>\n",
       "      <th>x</th>\n",
       "      <th>y</th>\n",
       "    </tr>\n",
       "  </thead>\n",
       "  <tbody>\n",
       "    <tr>\n",
       "      <th>count</th>\n",
       "      <td>8476.000000</td>\n",
       "      <td>8446.000000</td>\n",
       "      <td>8446.000000</td>\n",
       "    </tr>\n",
       "    <tr>\n",
       "      <th>mean</th>\n",
       "      <td>1008934.303563</td>\n",
       "      <td>-91.128384</td>\n",
       "      <td>39.248774</td>\n",
       "    </tr>\n",
       "    <tr>\n",
       "      <th>std</th>\n",
       "      <td>57157.734676</td>\n",
       "      <td>17.426453</td>\n",
       "      <td>5.082776</td>\n",
       "    </tr>\n",
       "    <tr>\n",
       "      <th>min</th>\n",
       "      <td>1000001.000000</td>\n",
       "      <td>-166.540000</td>\n",
       "      <td>17.709900</td>\n",
       "    </tr>\n",
       "    <tr>\n",
       "      <th>25%</th>\n",
       "      <td>1002781.750000</td>\n",
       "      <td>-97.330475</td>\n",
       "      <td>36.410976</td>\n",
       "    </tr>\n",
       "    <tr>\n",
       "      <th>50%</th>\n",
       "      <td>1005575.000000</td>\n",
       "      <td>-86.468321</td>\n",
       "      <td>40.062825</td>\n",
       "    </tr>\n",
       "    <tr>\n",
       "      <th>75%</th>\n",
       "      <td>1008562.250000</td>\n",
       "      <td>-77.671578</td>\n",
       "      <td>42.449670</td>\n",
       "    </tr>\n",
       "    <tr>\n",
       "      <th>max</th>\n",
       "      <td>2000036.000000</td>\n",
       "      <td>-64.704300</td>\n",
       "      <td>64.862750</td>\n",
       "    </tr>\n",
       "  </tbody>\n",
       "</table>\n",
       "</div>"
      ],
      "text/plain": [
       "                 FMID            x            y\n",
       "count     8476.000000  8446.000000  8446.000000\n",
       "mean   1008934.303563   -91.128384    39.248774\n",
       "std      57157.734676    17.426453     5.082776\n",
       "min    1000001.000000  -166.540000    17.709900\n",
       "25%    1002781.750000   -97.330475    36.410976\n",
       "50%    1005575.000000   -86.468321    40.062825\n",
       "75%    1008562.250000   -77.671578    42.449670\n",
       "max    2000036.000000   -64.704300    64.862750"
      ]
     },
     "execution_count": 7,
     "metadata": {},
     "output_type": "execute_result"
    }
   ],
   "source": [
    "# Confirm number of records loaded into python notebook.  \n",
    "# Note data is from 7/31/2015 download.  http://search.ams.usda.gov/farmersmarkets/\n",
    "\n",
    "markets.describe()"
   ]
  },
  {
   "cell_type": "code",
   "execution_count": 8,
   "metadata": {
    "collapsed": false
   },
   "outputs": [
    {
     "data": {
      "text/plain": [
       "Index(['FMID', 'MarketName', 'Website', 'Facebook', 'Twitter', 'Youtube',\n",
       "       'OtherMedia', 'street', 'city', 'County', 'State', 'zip', 'region',\n",
       "       'Season1Date', 'Season1Time', 'Season2Date', 'Season2Time',\n",
       "       'Season3Date', 'Season3Time', 'Season4Date', 'Season4Time', 'x', 'y',\n",
       "       'Location', 'Credit', 'WIC', 'WICcash', 'SFMNP', 'SNAP', 'Organic',\n",
       "       'Bakedgoods', 'Cheese', 'Crafts', 'Flowers', 'Eggs', 'Seafood', 'Herbs',\n",
       "       'Vegetables', 'Honey', 'Jams', 'Maple', 'Meat', 'Nursery', 'Nuts',\n",
       "       'Plants', 'Poultry', 'Prepared', 'Soap', 'Trees', 'Wine', 'Coffee',\n",
       "       'Beans', 'Fruits', 'Grains', 'Juices', 'Mushrooms', 'PetFood', 'Tofu',\n",
       "       'WildHarvested', 'updateTime'],\n",
       "      dtype='object')"
      ]
     },
     "execution_count": 8,
     "metadata": {},
     "output_type": "execute_result"
    }
   ],
   "source": [
    "# What data do I have to analyze?\n",
    "\n",
    "markets.columns"
   ]
  },
  {
   "cell_type": "code",
   "execution_count": 9,
   "metadata": {
    "collapsed": false
   },
   "outputs": [
    {
     "data": {
      "text/plain": [
       "array(['Michigan', 'South Carolina', 'Missouri', 'New York', 'Tennessee',\n",
       "       'Delaware', 'District of Columbia', 'Pennsylvania', 'Minnesota',\n",
       "       'Virginia', 'Nebraska', 'Illinois', 'Wisconsin', 'New Jersey',\n",
       "       'Kansas', 'Utah', 'Florida', 'Maryland', 'Indiana', 'Nevada',\n",
       "       'Colorado', 'Washington', 'Alabama', 'Iowa', 'Kentucky',\n",
       "       'South Dakota', 'Massachusetts', 'Louisiana', 'New Mexico', 'Maine',\n",
       "       'Georgia', 'Oklahoma', 'Hawaii', 'California', 'North Carolina',\n",
       "       'Arizona', 'Oregon', 'West Virginia', 'Ohio', 'Idaho',\n",
       "       'New Hampshire', 'Montana', 'North Dakota', 'Alaska', 'Texas',\n",
       "       'Virgin Islands', 'Rhode Island', 'Arkansas', 'Connecticut',\n",
       "       'Mississippi', 'Vermont', 'Wyoming', 'Puerto Rico', nan], dtype=object)"
      ]
     },
     "execution_count": 9,
     "metadata": {},
     "output_type": "execute_result"
    }
   ],
   "source": [
    "# practice pulling a list of unique values\n",
    "\n",
    "pd.unique(markets.State.ravel())"
   ]
  },
  {
   "cell_type": "code",
   "execution_count": 10,
   "metadata": {
    "collapsed": false
   },
   "outputs": [
    {
     "data": {
      "text/plain": [
       "array(['49007', '29682', '64759', ..., '84767', '46077', '64153'], dtype=object)"
      ]
     },
     "execution_count": 10,
     "metadata": {},
     "output_type": "execute_result"
    }
   ],
   "source": [
    "#practice *.values\n",
    "\n",
    "zipcodes = markets['zip'].values\n",
    "zipcodes"
   ]
  },
  {
   "cell_type": "code",
   "execution_count": 11,
   "metadata": {
    "collapsed": false
   },
   "outputs": [
    {
     "data": {
      "text/plain": [
       "8471   2014-06-05 14:40:00\n",
       "8472   2015-03-31 16:50:00\n",
       "8473   2015-03-19 13:43:00\n",
       "8474   2009-01-01 00:00:00\n",
       "8475   2015-07-29 10:22:00\n",
       "Name: cleanUpdateTime, dtype: datetime64[ns]"
      ]
     },
     "execution_count": 11,
     "metadata": {},
     "output_type": "execute_result"
    }
   ],
   "source": [
    "#Clean the updateTime column and change the text into date format\n",
    "\n",
    "updateTime = markets['updateTime']\n",
    "markets['cleanUpdateTime'] = pd.to_datetime(pd.Series(updateTime))\n",
    "\n",
    "#confirm type of newly added and cleaned date/time column\n",
    "\n",
    "markets['cleanUpdateTime'].tail()\n"
   ]
  },
  {
   "cell_type": "code",
   "execution_count": 12,
   "metadata": {
    "collapsed": false
   },
   "outputs": [
    {
     "data": {
      "text/plain": [
       "8471    2014\n",
       "8472    2015\n",
       "8473    2015\n",
       "8474    2009\n",
       "8475    2015\n",
       "Name: cleanYear, dtype: int64"
      ]
     },
     "execution_count": 12,
     "metadata": {},
     "output_type": "execute_result"
    }
   ],
   "source": [
    "#Create year column to allow for counts by year\n",
    "\n",
    "markets['cleanYear'] = markets['cleanUpdateTime'].dt.year\n",
    "\n",
    "markets['cleanYear'].tail()"
   ]
  },
  {
   "cell_type": "code",
   "execution_count": 60,
   "metadata": {
    "collapsed": false
   },
   "outputs": [
    {
     "data": {
      "text/html": [
       "<div>\n",
       "<table border=\"1\" class=\"dataframe\">\n",
       "  <thead>\n",
       "    <tr style=\"text-align: right;\">\n",
       "      <th></th>\n",
       "      <th>FMID</th>\n",
       "      <th>MarketName</th>\n",
       "      <th>Website</th>\n",
       "      <th>Facebook</th>\n",
       "      <th>Twitter</th>\n",
       "      <th>Youtube</th>\n",
       "      <th>OtherMedia</th>\n",
       "      <th>street</th>\n",
       "      <th>city</th>\n",
       "      <th>County</th>\n",
       "      <th>...</th>\n",
       "      <th>Fruits</th>\n",
       "      <th>Grains</th>\n",
       "      <th>Juices</th>\n",
       "      <th>Mushrooms</th>\n",
       "      <th>PetFood</th>\n",
       "      <th>Tofu</th>\n",
       "      <th>WildHarvested</th>\n",
       "      <th>updateTime</th>\n",
       "      <th>cleanUpdateTime</th>\n",
       "      <th>cleanYear</th>\n",
       "    </tr>\n",
       "  </thead>\n",
       "  <tbody>\n",
       "    <tr>\n",
       "      <th>0</th>\n",
       "      <td>1000618</td>\n",
       "      <td>100-Mile Market</td>\n",
       "      <td>http://www.peoplesfoodco-op.org/</td>\n",
       "      <td></td>\n",
       "      <td></td>\n",
       "      <td></td>\n",
       "      <td></td>\n",
       "      <td>507 Harrison Street</td>\n",
       "      <td>Kalamazoo</td>\n",
       "      <td>Kalamazoo</td>\n",
       "      <td>...</td>\n",
       "      <td>Y</td>\n",
       "      <td>N</td>\n",
       "      <td>N</td>\n",
       "      <td>Y</td>\n",
       "      <td>N</td>\n",
       "      <td>N</td>\n",
       "      <td>Y</td>\n",
       "      <td>4/24/2014 18:22</td>\n",
       "      <td>2014-04-24 18:22:00</td>\n",
       "      <td>2014</td>\n",
       "    </tr>\n",
       "    <tr>\n",
       "      <th>1</th>\n",
       "      <td>1009364</td>\n",
       "      <td>106 S. Main Street Farmers Market</td>\n",
       "      <td>http://thetownofsixmile.wordpress.com/</td>\n",
       "      <td></td>\n",
       "      <td></td>\n",
       "      <td></td>\n",
       "      <td></td>\n",
       "      <td>106 S. Main Street</td>\n",
       "      <td>Six Mile</td>\n",
       "      <td></td>\n",
       "      <td>...</td>\n",
       "      <td></td>\n",
       "      <td></td>\n",
       "      <td></td>\n",
       "      <td></td>\n",
       "      <td></td>\n",
       "      <td></td>\n",
       "      <td></td>\n",
       "      <td>2013</td>\n",
       "      <td>2013-01-01 00:00:00</td>\n",
       "      <td>2013</td>\n",
       "    </tr>\n",
       "    <tr>\n",
       "      <th>2</th>\n",
       "      <td>1010691</td>\n",
       "      <td>10th Steet Community Farmers Market</td>\n",
       "      <td></td>\n",
       "      <td></td>\n",
       "      <td></td>\n",
       "      <td></td>\n",
       "      <td>http://agrimissouri.com/mo-grown/grodetail.php...</td>\n",
       "      <td>10th Street and Poplar</td>\n",
       "      <td>Lamar</td>\n",
       "      <td>Barton</td>\n",
       "      <td>...</td>\n",
       "      <td>Y</td>\n",
       "      <td>N</td>\n",
       "      <td>N</td>\n",
       "      <td>N</td>\n",
       "      <td>N</td>\n",
       "      <td>N</td>\n",
       "      <td>N</td>\n",
       "      <td>10/28/2014 9:49</td>\n",
       "      <td>2014-10-28 09:49:00</td>\n",
       "      <td>2014</td>\n",
       "    </tr>\n",
       "    <tr>\n",
       "      <th>3</th>\n",
       "      <td>1002454</td>\n",
       "      <td>112st Madison Avenue</td>\n",
       "      <td></td>\n",
       "      <td></td>\n",
       "      <td></td>\n",
       "      <td></td>\n",
       "      <td></td>\n",
       "      <td>112th Madison Avenue</td>\n",
       "      <td>New York</td>\n",
       "      <td>New York</td>\n",
       "      <td>...</td>\n",
       "      <td>N</td>\n",
       "      <td>N</td>\n",
       "      <td>N</td>\n",
       "      <td>N</td>\n",
       "      <td>N</td>\n",
       "      <td>N</td>\n",
       "      <td>N</td>\n",
       "      <td>3/1/2012 10:38</td>\n",
       "      <td>2012-03-01 10:38:00</td>\n",
       "      <td>2012</td>\n",
       "    </tr>\n",
       "    <tr>\n",
       "      <th>4</th>\n",
       "      <td>1011100</td>\n",
       "      <td>12 South Farmers Market</td>\n",
       "      <td>http://www.12southfarmersmarket.com</td>\n",
       "      <td>12_South_Farmers_Market</td>\n",
       "      <td>@12southfrmsmkt</td>\n",
       "      <td></td>\n",
       "      <td>@12southfrmsmkt</td>\n",
       "      <td>3000 Granny White Pike</td>\n",
       "      <td>Nashville</td>\n",
       "      <td>Davidson</td>\n",
       "      <td>...</td>\n",
       "      <td>Y</td>\n",
       "      <td>N</td>\n",
       "      <td>Y</td>\n",
       "      <td>Y</td>\n",
       "      <td>Y</td>\n",
       "      <td>N</td>\n",
       "      <td>N</td>\n",
       "      <td>5/1/2015 10:40</td>\n",
       "      <td>2015-05-01 10:40:00</td>\n",
       "      <td>2015</td>\n",
       "    </tr>\n",
       "  </tbody>\n",
       "</table>\n",
       "<p>5 rows × 62 columns</p>\n",
       "</div>"
      ],
      "text/plain": [
       "      FMID                           MarketName  \\\n",
       "0  1000618                      100-Mile Market   \n",
       "1  1009364    106 S. Main Street Farmers Market   \n",
       "2  1010691  10th Steet Community Farmers Market   \n",
       "3  1002454                 112st Madison Avenue   \n",
       "4  1011100              12 South Farmers Market   \n",
       "\n",
       "                                  Website                 Facebook  \\\n",
       "0        http://www.peoplesfoodco-op.org/                            \n",
       "1  http://thetownofsixmile.wordpress.com/                            \n",
       "2                                                                    \n",
       "3                                                                    \n",
       "4     http://www.12southfarmersmarket.com  12_South_Farmers_Market   \n",
       "\n",
       "           Twitter Youtube                                         OtherMedia  \\\n",
       "0                                                                               \n",
       "1                                                                               \n",
       "2                           http://agrimissouri.com/mo-grown/grodetail.php...   \n",
       "3                                                                               \n",
       "4  @12southfrmsmkt                                            @12southfrmsmkt   \n",
       "\n",
       "                   street       city     County    ...    Fruits Grains  \\\n",
       "0     507 Harrison Street  Kalamazoo  Kalamazoo    ...         Y      N   \n",
       "1      106 S. Main Street   Six Mile               ...                    \n",
       "2  10th Street and Poplar     Lamar      Barton    ...         Y      N   \n",
       "3    112th Madison Avenue   New York   New York    ...         N      N   \n",
       "4  3000 Granny White Pike  Nashville   Davidson    ...         Y      N   \n",
       "\n",
       "  Juices Mushrooms PetFood Tofu WildHarvested       updateTime  \\\n",
       "0      N         Y       N    N             Y  4/24/2014 18:22   \n",
       "1                                                         2013   \n",
       "2      N         N       N    N             N  10/28/2014 9:49   \n",
       "3      N         N       N    N             N   3/1/2012 10:38   \n",
       "4      Y         Y       Y    N             N   5/1/2015 10:40   \n",
       "\n",
       "      cleanUpdateTime cleanYear  \n",
       "0 2014-04-24 18:22:00      2014  \n",
       "1 2013-01-01 00:00:00      2013  \n",
       "2 2014-10-28 09:49:00      2014  \n",
       "3 2012-03-01 10:38:00      2012  \n",
       "4 2015-05-01 10:40:00      2015  \n",
       "\n",
       "[5 rows x 62 columns]"
      ]
     },
     "execution_count": 60,
     "metadata": {},
     "output_type": "execute_result"
    }
   ],
   "source": [
    "# Replace all nan's with blank text\n",
    "\n",
    "markets = markets.replace(np.nan,' ',regex=True) \n",
    "markets.head()"
   ]
  },
  {
   "cell_type": "code",
   "execution_count": 61,
   "metadata": {
    "collapsed": false
   },
   "outputs": [
    {
     "name": "stdout",
     "output_type": "stream",
     "text": [
      "Index(['FMID', 'MarketName', 'Website', 'Facebook', 'Twitter', 'Youtube',\n",
      "       'OtherMedia', 'street', 'city', 'County', 'State', 'zip', 'region',\n",
      "       'Season1Date', 'Season1Time', 'Season2Date', 'Season2Time',\n",
      "       'Season3Date', 'Season3Time', 'Season4Date', 'Season4Time', 'x', 'y',\n",
      "       'Location', 'Credit', 'WIC', 'WICcash', 'SFMNP', 'SNAP', 'Organic',\n",
      "       'Bakedgoods', 'Cheese', 'Crafts', 'Flowers', 'Eggs', 'Seafood', 'Herbs',\n",
      "       'Vegetables', 'Honey', 'Jams', 'Maple', 'Meat', 'Nursery', 'Nuts',\n",
      "       'Plants', 'Poultry', 'Prepared', 'Soap', 'Trees', 'Wine', 'Coffee',\n",
      "       'Beans', 'Fruits', 'Grains', 'Juices', 'Mushrooms', 'PetFood', 'Tofu',\n",
      "       'WildHarvested', 'updateTime', 'cleanUpdateTime', 'cleanYear'],\n",
      "      dtype='object')\n"
     ]
    }
   ],
   "source": [
    "#Confirm new column is created with cleaned up data for time\n",
    "\n",
    "print(markets.columns)"
   ]
  },
  {
   "cell_type": "code",
   "execution_count": 15,
   "metadata": {
    "collapsed": false
   },
   "outputs": [
    {
     "data": {
      "text/plain": [
       "(8476, 62)"
      ]
     },
     "execution_count": 15,
     "metadata": {},
     "output_type": "execute_result"
    }
   ],
   "source": [
    "#Confirm new column is created with cleaned up data for time\n",
    "\n",
    "markets.shape"
   ]
  },
  {
   "cell_type": "markdown",
   "metadata": {},
   "source": [
    "### Number of Farmers' Markets Added to the USDA Directory By Year"
   ]
  },
  {
   "cell_type": "code",
   "execution_count": 16,
   "metadata": {
    "collapsed": false
   },
   "outputs": [
    {
     "name": "stdout",
     "output_type": "stream",
     "text": [
      "cleanYear\n",
      "2009    1815\n",
      "2010     340\n",
      "2011     754\n",
      "2012     790\n",
      "2013    1183\n",
      "2014    2278\n",
      "2015    1316\n",
      "Name: FMID, dtype: int64\n"
     ]
    },
    {
     "data": {
      "text/plain": [
       "<matplotlib.axes._subplots.AxesSubplot at 0x10a57b2b0>"
      ]
     },
     "execution_count": 16,
     "metadata": {},
     "output_type": "execute_result"
    },
    {
     "data": {
      "image/png": "[encoded data removed]",
      "text/plain": [
       "<matplotlib.figure.Figure at 0x10a66f7f0>"
      ]
     },
     "metadata": {},
     "output_type": "display_data"
    }
   ],
   "source": [
    "# Count FM additions to the database by year\n",
    "# Can understand this as FM's being tracked. Cannot assume FM is newly created until verify this data base \n",
    "# is linked to permits\n",
    "\n",
    "CountByYear = markets.groupby(markets['cleanYear'])['FMID'].count()\n",
    "print(CountByYear)\n",
    "CountByYear.plot(kind='bar')"
   ]
  },
  {
   "cell_type": "markdown",
   "metadata": {},
   "source": [
    "###Number of Farmers' Markets in 2015 by U.S. Region"
   ]
  },
  {
   "cell_type": "code",
   "execution_count": 17,
   "metadata": {
    "collapsed": false
   },
   "outputs": [
    {
     "name": "stdout",
     "output_type": "stream",
     "text": [
      "region\n",
      "                  1\n",
      "Midnorth       2351\n",
      "Midsouth        820\n",
      "Northeast      1984\n",
      "Northwest       530\n",
      "Southeast      1639\n",
      "Southwest      1046\n",
      "Territories     105\n",
      "Name: FMID, dtype: int64\n"
     ]
    },
    {
     "data": {
      "text/plain": [
       "<matplotlib.axes._subplots.AxesSubplot at 0x10a695710>"
      ]
     },
     "execution_count": 17,
     "metadata": {},
     "output_type": "execute_result"
    },
    {
     "data": {
      "image/png": "[encoded data removed]",
      "text/plain": [
       "<matplotlib.figure.Figure at 0x10a69ba20>"
      ]
     },
     "metadata": {},
     "output_type": "display_data"
    }
   ],
   "source": [
    "# Count by region\n",
    "\n",
    "CountbyRegion = markets.groupby(markets['region'])['FMID'].count()\n",
    "print(CountbyRegion)\n",
    "CountbyRegion.plot(kind='bar')\n"
   ]
  },
  {
   "cell_type": "markdown",
   "metadata": {},
   "source": [
    "###Number of Farmers' Markets in 2015 by State in Most Active Region"
   ]
  },
  {
   "cell_type": "code",
   "execution_count": 28,
   "metadata": {
    "collapsed": false
   },
   "outputs": [
    {
     "name": "stdout",
     "output_type": "stream",
     "text": [
      "State\n",
      "Idaho            66\n",
      "Illinois        319\n",
      "Indiana         179\n",
      "Iowa            228\n",
      "Michigan        338\n",
      "Minnesota       189\n",
      "Montana          67\n",
      "Nebraska         97\n",
      "North Dakota     64\n",
      "Ohio            316\n",
      "Oklahoma         69\n",
      "South Dakota     38\n",
      "Utah             40\n",
      "Wisconsin       299\n",
      "Wyoming          42\n",
      "Name: FMID, dtype: int64\n"
     ]
    },
    {
     "data": {
      "text/plain": [
       "<matplotlib.axes._subplots.AxesSubplot at 0x10eac3dd8>"
      ]
     },
     "execution_count": 28,
     "metadata": {},
     "output_type": "execute_result"
    },
    {
     "data": {
      "image/png": "[encoded data removed]",
      "text/plain": [
       "<matplotlib.figure.Figure at 0x10ccca048>"
      ]
     },
     "metadata": {},
     "output_type": "display_data"
    }
   ],
   "source": [
    "# Count by state in top region\n",
    "\n",
    "FM_midnorth = markets[markets['region'] == 'Midnorth']\n",
    "FM_midnorth.head()\n",
    "\n",
    "CountbyState = markets.groupby(FM_midnorth['State'])['FMID'].count()\n",
    "print(CountbyState2)\n",
    "CountbyState.plot(kind='bar')"
   ]
  },
  {
   "cell_type": "markdown",
   "metadata": {},
   "source": [
    "###Number of Farmers' Markets in 2015 by State in Second Most Active Region"
   ]
  },
  {
   "cell_type": "code",
   "execution_count": 29,
   "metadata": {
    "collapsed": false
   },
   "outputs": [
    {
     "name": "stdout",
     "output_type": "stream",
     "text": [
      "State\n",
      "Connecticut             156\n",
      "Delaware                 26\n",
      "District of Columbia     35\n",
      "Maine                    93\n",
      "Massachusetts           308\n",
      "New Hampshire            97\n",
      "New Jersey              150\n",
      "New York                661\n",
      "Pennsylvania            303\n",
      "Rhode Island             58\n",
      "Vermont                  97\n",
      "Name: FMID, dtype: int64\n"
     ]
    },
    {
     "data": {
      "text/plain": [
       "<matplotlib.axes._subplots.AxesSubplot at 0x10e768f60>"
      ]
     },
     "execution_count": 29,
     "metadata": {},
     "output_type": "execute_result"
    },
    {
     "data": {
      "image/png": "[encoded data removed]",
      "text/plain": [
       "<matplotlib.figure.Figure at 0x10e6f4cc0>"
      ]
     },
     "metadata": {},
     "output_type": "display_data"
    }
   ],
   "source": [
    "# Count by state in second top region\n",
    "\n",
    "FM_northeast = markets[markets['region'] == 'Northeast']\n",
    "FM_northeast.head()\n",
    "\n",
    "CountbyState2 = markets.groupby(FM_northeast['State'])['FMID'].count()\n",
    "print(CountbyState3)\n",
    "CountbyState2.plot(kind='bar')"
   ]
  },
  {
   "cell_type": "code",
   "execution_count": 56,
   "metadata": {
    "collapsed": false
   },
   "outputs": [
    {
     "name": "stdout",
     "output_type": "stream",
     "text": [
      "Max Count by County:  591\n",
      "Min Count by County:  1\n",
      "Mean Count by County:  5.87794729542\n"
     ]
    }
   ],
   "source": [
    "# Count by County\n",
    "\n",
    "CountbyCounty = markets.groupby(markets['County'])['FMID'].count()\n",
    "#print(CountbyCounty)\n",
    "print(\"Max Count by County: \", CountbyCounty.max())\n",
    "print(\"Min Count by County: \", CountbyCounty.min())\n",
    "print(\"Mean Count by County: \", CountbyCounty.mean())\n"
   ]
  }
 ],
 "metadata": {
  "kernelspec": {
   "display_name": "Python 3",
   "language": "python",
   "name": "python3"
  },
  "language_info": {
   "codemirror_mode": {
    "name": "ipython",
    "version": 3
   },
   "file_extension": ".py",
   "mimetype": "text/x-python",
   "name": "python",
   "nbconvert_exporter": "python",
   "pygments_lexer": "ipython3",
   "version": "3.4.3"
  }
 },
 "nbformat": 4,
 "nbformat_minor": 0
}
