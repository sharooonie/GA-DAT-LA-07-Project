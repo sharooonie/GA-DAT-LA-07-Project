{
 "cells": [
  {
   "cell_type": "markdown",
   "metadata": {},
   "source": [
    "#Data Cleansing"
   ]
  },
  {
   "cell_type": "code",
   "execution_count": 107,
   "metadata": {
    "collapsed": true
   },
   "outputs": [],
   "source": [
    "import numpy as np\n",
    "import matplotlib.pyplot as plt\n",
    "import pandas as pd\n",
    "from datetime import datetime\n",
    "\n",
    "%matplotlib inline\n",
    "\n",
    "import statsmodels.api as sm"
   ]
  },
  {
   "cell_type": "code",
   "execution_count": 86,
   "metadata": {
    "collapsed": false
   },
   "outputs": [
    {
     "data": {
      "text/html": [
       "<div>\n",
       "<table border=\"1\" class=\"dataframe\">\n",
       "  <thead>\n",
       "    <tr style=\"text-align: right;\">\n",
       "      <th></th>\n",
       "      <th>FMID</th>\n",
       "      <th>MarketName</th>\n",
       "      <th>Website</th>\n",
       "      <th>Facebook</th>\n",
       "      <th>Twitter</th>\n",
       "      <th>Youtube</th>\n",
       "      <th>OtherMedia</th>\n",
       "      <th>street</th>\n",
       "      <th>city</th>\n",
       "      <th>County</th>\n",
       "      <th>...</th>\n",
       "      <th>Coffee</th>\n",
       "      <th>Beans</th>\n",
       "      <th>Fruits</th>\n",
       "      <th>Grains</th>\n",
       "      <th>Juices</th>\n",
       "      <th>Mushrooms</th>\n",
       "      <th>PetFood</th>\n",
       "      <th>Tofu</th>\n",
       "      <th>WildHarvested</th>\n",
       "      <th>updateTime</th>\n",
       "    </tr>\n",
       "  </thead>\n",
       "  <tbody>\n",
       "    <tr>\n",
       "      <th>0</th>\n",
       "      <td>1000618</td>\n",
       "      <td>100-Mile Market</td>\n",
       "      <td>http://www.peoplesfoodco-op.org/</td>\n",
       "      <td>NaN</td>\n",
       "      <td>NaN</td>\n",
       "      <td>NaN</td>\n",
       "      <td>NaN</td>\n",
       "      <td>507 Harrison Street</td>\n",
       "      <td>Kalamazoo</td>\n",
       "      <td>Kalamazoo</td>\n",
       "      <td>...</td>\n",
       "      <td>Y</td>\n",
       "      <td>N</td>\n",
       "      <td>Y</td>\n",
       "      <td>N</td>\n",
       "      <td>N</td>\n",
       "      <td>Y</td>\n",
       "      <td>N</td>\n",
       "      <td>N</td>\n",
       "      <td>Y</td>\n",
       "      <td>4/24/2014 18:22</td>\n",
       "    </tr>\n",
       "    <tr>\n",
       "      <th>1</th>\n",
       "      <td>1009364</td>\n",
       "      <td>106 S. Main Street Farmers Market</td>\n",
       "      <td>http://thetownofsixmile.wordpress.com/</td>\n",
       "      <td>NaN</td>\n",
       "      <td>NaN</td>\n",
       "      <td>NaN</td>\n",
       "      <td>NaN</td>\n",
       "      <td>106 S. Main Street</td>\n",
       "      <td>Six Mile</td>\n",
       "      <td>NaN</td>\n",
       "      <td>...</td>\n",
       "      <td>NaN</td>\n",
       "      <td>NaN</td>\n",
       "      <td>NaN</td>\n",
       "      <td>NaN</td>\n",
       "      <td>NaN</td>\n",
       "      <td>NaN</td>\n",
       "      <td>NaN</td>\n",
       "      <td>NaN</td>\n",
       "      <td>NaN</td>\n",
       "      <td>2013</td>\n",
       "    </tr>\n",
       "    <tr>\n",
       "      <th>2</th>\n",
       "      <td>1010691</td>\n",
       "      <td>10th Steet Community Farmers Market</td>\n",
       "      <td>NaN</td>\n",
       "      <td>NaN</td>\n",
       "      <td>NaN</td>\n",
       "      <td>NaN</td>\n",
       "      <td>http://agrimissouri.com/mo-grown/grodetail.php...</td>\n",
       "      <td>10th Street and Poplar</td>\n",
       "      <td>Lamar</td>\n",
       "      <td>Barton</td>\n",
       "      <td>...</td>\n",
       "      <td>N</td>\n",
       "      <td>N</td>\n",
       "      <td>Y</td>\n",
       "      <td>N</td>\n",
       "      <td>N</td>\n",
       "      <td>N</td>\n",
       "      <td>N</td>\n",
       "      <td>N</td>\n",
       "      <td>N</td>\n",
       "      <td>10/28/2014 9:49</td>\n",
       "    </tr>\n",
       "    <tr>\n",
       "      <th>3</th>\n",
       "      <td>1002454</td>\n",
       "      <td>112st Madison Avenue</td>\n",
       "      <td>NaN</td>\n",
       "      <td>NaN</td>\n",
       "      <td>NaN</td>\n",
       "      <td>NaN</td>\n",
       "      <td>NaN</td>\n",
       "      <td>112th Madison Avenue</td>\n",
       "      <td>New York</td>\n",
       "      <td>New York</td>\n",
       "      <td>...</td>\n",
       "      <td>N</td>\n",
       "      <td>N</td>\n",
       "      <td>N</td>\n",
       "      <td>N</td>\n",
       "      <td>N</td>\n",
       "      <td>N</td>\n",
       "      <td>N</td>\n",
       "      <td>N</td>\n",
       "      <td>N</td>\n",
       "      <td>3/1/2012 10:38</td>\n",
       "    </tr>\n",
       "    <tr>\n",
       "      <th>4</th>\n",
       "      <td>1011100</td>\n",
       "      <td>12 South Farmers Market</td>\n",
       "      <td>http://www.12southfarmersmarket.com</td>\n",
       "      <td>12_South_Farmers_Market</td>\n",
       "      <td>@12southfrmsmkt</td>\n",
       "      <td>NaN</td>\n",
       "      <td>@12southfrmsmkt</td>\n",
       "      <td>3000 Granny White Pike</td>\n",
       "      <td>Nashville</td>\n",
       "      <td>Davidson</td>\n",
       "      <td>...</td>\n",
       "      <td>Y</td>\n",
       "      <td>N</td>\n",
       "      <td>Y</td>\n",
       "      <td>N</td>\n",
       "      <td>Y</td>\n",
       "      <td>Y</td>\n",
       "      <td>Y</td>\n",
       "      <td>N</td>\n",
       "      <td>N</td>\n",
       "      <td>5/1/2015 10:40</td>\n",
       "    </tr>\n",
       "  </tbody>\n",
       "</table>\n",
       "<p>5 rows × 60 columns</p>\n",
       "</div>"
      ],
      "text/plain": [
       "      FMID                           MarketName  \\\n",
       "0  1000618                      100-Mile Market   \n",
       "1  1009364    106 S. Main Street Farmers Market   \n",
       "2  1010691  10th Steet Community Farmers Market   \n",
       "3  1002454                 112st Madison Avenue   \n",
       "4  1011100              12 South Farmers Market   \n",
       "\n",
       "                                  Website                 Facebook  \\\n",
       "0        http://www.peoplesfoodco-op.org/                      NaN   \n",
       "1  http://thetownofsixmile.wordpress.com/                      NaN   \n",
       "2                                     NaN                      NaN   \n",
       "3                                     NaN                      NaN   \n",
       "4     http://www.12southfarmersmarket.com  12_South_Farmers_Market   \n",
       "\n",
       "           Twitter Youtube                                         OtherMedia  \\\n",
       "0              NaN     NaN                                                NaN   \n",
       "1              NaN     NaN                                                NaN   \n",
       "2              NaN     NaN  http://agrimissouri.com/mo-grown/grodetail.php...   \n",
       "3              NaN     NaN                                                NaN   \n",
       "4  @12southfrmsmkt     NaN                                    @12southfrmsmkt   \n",
       "\n",
       "                   street       city     County       ...        Coffee Beans  \\\n",
       "0     507 Harrison Street  Kalamazoo  Kalamazoo       ...             Y     N   \n",
       "1      106 S. Main Street   Six Mile        NaN       ...           NaN   NaN   \n",
       "2  10th Street and Poplar     Lamar      Barton       ...             N     N   \n",
       "3    112th Madison Avenue   New York   New York       ...             N     N   \n",
       "4  3000 Granny White Pike  Nashville   Davidson       ...             Y     N   \n",
       "\n",
       "  Fruits Grains Juices Mushrooms PetFood Tofu WildHarvested       updateTime  \n",
       "0      Y      N      N         Y       N    N             Y  4/24/2014 18:22  \n",
       "1    NaN    NaN    NaN       NaN     NaN  NaN           NaN             2013  \n",
       "2      Y      N      N         N       N    N             N  10/28/2014 9:49  \n",
       "3      N      N      N         N       N    N             N   3/1/2012 10:38  \n",
       "4      Y      N      Y         Y       Y    N             N   5/1/2015 10:40  \n",
       "\n",
       "[5 rows x 60 columns]"
      ]
     },
     "execution_count": 86,
     "metadata": {},
     "output_type": "execute_result"
    }
   ],
   "source": [
    "#import the file and check the first and last rows\n",
    "\n",
    "markets = pd.read_csv(\"../GA-DAT-LA-07-Project/Export-5.csv\")\n",
    "markets.head()\n"
   ]
  },
  {
   "cell_type": "code",
   "execution_count": 87,
   "metadata": {
    "collapsed": false
   },
   "outputs": [
    {
     "data": {
      "text/html": [
       "<div>\n",
       "<table border=\"1\" class=\"dataframe\">\n",
       "  <thead>\n",
       "    <tr style=\"text-align: right;\">\n",
       "      <th></th>\n",
       "      <th>FMID</th>\n",
       "      <th>x</th>\n",
       "      <th>y</th>\n",
       "    </tr>\n",
       "  </thead>\n",
       "  <tbody>\n",
       "    <tr>\n",
       "      <th>count</th>\n",
       "      <td>8476.000000</td>\n",
       "      <td>8446.000000</td>\n",
       "      <td>8446.000000</td>\n",
       "    </tr>\n",
       "    <tr>\n",
       "      <th>mean</th>\n",
       "      <td>1008934.303563</td>\n",
       "      <td>-91.128384</td>\n",
       "      <td>39.248774</td>\n",
       "    </tr>\n",
       "    <tr>\n",
       "      <th>std</th>\n",
       "      <td>57157.734676</td>\n",
       "      <td>17.426453</td>\n",
       "      <td>5.082776</td>\n",
       "    </tr>\n",
       "    <tr>\n",
       "      <th>min</th>\n",
       "      <td>1000001.000000</td>\n",
       "      <td>-166.540000</td>\n",
       "      <td>17.709900</td>\n",
       "    </tr>\n",
       "    <tr>\n",
       "      <th>25%</th>\n",
       "      <td>1002781.750000</td>\n",
       "      <td>-97.330475</td>\n",
       "      <td>36.410976</td>\n",
       "    </tr>\n",
       "    <tr>\n",
       "      <th>50%</th>\n",
       "      <td>1005575.000000</td>\n",
       "      <td>-86.468321</td>\n",
       "      <td>40.062825</td>\n",
       "    </tr>\n",
       "    <tr>\n",
       "      <th>75%</th>\n",
       "      <td>1008562.250000</td>\n",
       "      <td>-77.671578</td>\n",
       "      <td>42.449670</td>\n",
       "    </tr>\n",
       "    <tr>\n",
       "      <th>max</th>\n",
       "      <td>2000036.000000</td>\n",
       "      <td>-64.704300</td>\n",
       "      <td>64.862750</td>\n",
       "    </tr>\n",
       "  </tbody>\n",
       "</table>\n",
       "</div>"
      ],
      "text/plain": [
       "                 FMID            x            y\n",
       "count     8476.000000  8446.000000  8446.000000\n",
       "mean   1008934.303563   -91.128384    39.248774\n",
       "std      57157.734676    17.426453     5.082776\n",
       "min    1000001.000000  -166.540000    17.709900\n",
       "25%    1002781.750000   -97.330475    36.410976\n",
       "50%    1005575.000000   -86.468321    40.062825\n",
       "75%    1008562.250000   -77.671578    42.449670\n",
       "max    2000036.000000   -64.704300    64.862750"
      ]
     },
     "execution_count": 87,
     "metadata": {},
     "output_type": "execute_result"
    }
   ],
   "source": [
    "# Confirm number of records loaded into python notebook.  \n",
    "# Note data is from 7/31/2015 download.  http://search.ams.usda.gov/farmersmarkets/\n",
    "\n",
    "markets.describe()"
   ]
  },
  {
   "cell_type": "code",
   "execution_count": 58,
   "metadata": {
    "collapsed": false
   },
   "outputs": [
    {
     "data": {
      "text/plain": [
       "Index(['FMID', 'MarketName', 'Website', 'Facebook', 'Twitter', 'Youtube',\n",
       "       'OtherMedia', 'street', 'city', 'County', 'State', 'zip', 'region',\n",
       "       'Season1Date', 'Season1Time', 'Season2Date', 'Season2Time',\n",
       "       'Season3Date', 'Season3Time', 'Season4Date', 'Season4Time', 'x', 'y',\n",
       "       'Location', 'Credit', 'WIC', 'WICcash', 'SFMNP', 'SNAP', 'Organic',\n",
       "       'Bakedgoods', 'Cheese', 'Crafts', 'Flowers', 'Eggs', 'Seafood', 'Herbs',\n",
       "       'Vegetables', 'Honey', 'Jams', 'Maple', 'Meat', 'Nursery', 'Nuts',\n",
       "       'Plants', 'Poultry', 'Prepared', 'Soap', 'Trees', 'Wine', 'Coffee',\n",
       "       'Beans', 'Fruits', 'Grains', 'Juices', 'Mushrooms', 'PetFood', 'Tofu',\n",
       "       'WildHarvested', 'updateTime'],\n",
       "      dtype='object')"
      ]
     },
     "execution_count": 58,
     "metadata": {},
     "output_type": "execute_result"
    }
   ],
   "source": [
    "# What data do I have to analyze?\n",
    "\n",
    "markets.columns"
   ]
  },
  {
   "cell_type": "code",
   "execution_count": 59,
   "metadata": {
    "collapsed": false
   },
   "outputs": [
    {
     "data": {
      "text/plain": [
       "array(['Michigan', 'South Carolina', 'Missouri', 'New York', 'Tennessee',\n",
       "       'Delaware', 'District of Columbia', 'Pennsylvania', 'Minnesota',\n",
       "       'Virginia', 'Nebraska', 'Illinois', 'Wisconsin', 'New Jersey',\n",
       "       'Kansas', 'Utah', 'Florida', 'Maryland', 'Indiana', 'Nevada',\n",
       "       'Colorado', 'Washington', 'Alabama', 'Iowa', 'Kentucky',\n",
       "       'South Dakota', 'Massachusetts', 'Louisiana', 'New Mexico', 'Maine',\n",
       "       'Georgia', 'Oklahoma', 'Hawaii', 'California', 'North Carolina',\n",
       "       'Arizona', 'Oregon', 'West Virginia', 'Ohio', 'Idaho',\n",
       "       'New Hampshire', 'Montana', 'North Dakota', 'Alaska', 'Texas',\n",
       "       'Virgin Islands', 'Rhode Island', 'Arkansas', 'Connecticut',\n",
       "       'Mississippi', 'Vermont', 'Wyoming', 'Puerto Rico', nan], dtype=object)"
      ]
     },
     "execution_count": 59,
     "metadata": {},
     "output_type": "execute_result"
    }
   ],
   "source": [
    "# practice pulling a list of unique values\n",
    "\n",
    "pd.unique(markets.State.ravel())\n"
   ]
  },
  {
   "cell_type": "code",
   "execution_count": 60,
   "metadata": {
    "collapsed": false
   },
   "outputs": [
    {
     "data": {
      "text/plain": [
       "array(['49007', '29682', '64759', ..., '84767', '46077', '64153'], dtype=object)"
      ]
     },
     "execution_count": 60,
     "metadata": {},
     "output_type": "execute_result"
    }
   ],
   "source": [
    "#practice *.values\n",
    "\n",
    "zipcodes = markets['zip'].values\n",
    "zipcodes"
   ]
  },
  {
   "cell_type": "markdown",
   "metadata": {},
   "source": [
    "## Date Columns\n",
    "\n",
    "#### Use datetime library to format the data"
   ]
  },
  {
   "cell_type": "code",
   "execution_count": 88,
   "metadata": {
    "collapsed": false
   },
   "outputs": [
    {
     "data": {
      "text/plain": [
       "8471   2014-06-05 14:40:00\n",
       "8472   2015-03-31 16:50:00\n",
       "8473   2015-03-19 13:43:00\n",
       "8474   2009-01-01 00:00:00\n",
       "8475   2015-07-29 10:22:00\n",
       "Name: cleanUpdateTime, dtype: datetime64[ns]"
      ]
     },
     "execution_count": 88,
     "metadata": {},
     "output_type": "execute_result"
    }
   ],
   "source": [
    "#Clean the updateTime column and change the text into date format\n",
    "\n",
    "updateTime = markets['updateTime']\n",
    "markets['cleanUpdateTime'] = pd.to_datetime(pd.Series(updateTime))\n",
    "\n",
    "#confirm type of newly added and cleaned date/time column\n",
    "\n",
    "markets['cleanUpdateTime'].tail()\n"
   ]
  },
  {
   "cell_type": "code",
   "execution_count": 89,
   "metadata": {
    "collapsed": false
   },
   "outputs": [
    {
     "data": {
      "text/plain": [
       "8471    2014\n",
       "8472    2015\n",
       "8473    2015\n",
       "8474    2009\n",
       "8475    2015\n",
       "Name: cleanYear, dtype: int64"
      ]
     },
     "execution_count": 89,
     "metadata": {},
     "output_type": "execute_result"
    }
   ],
   "source": [
    "#Create year column to allow for counts by year\n",
    "\n",
    "markets['cleanYear'] = markets['cleanUpdateTime'].dt.year\n",
    "\n",
    "markets['cleanYear'].tail()"
   ]
  },
  {
   "cell_type": "code",
   "execution_count": 63,
   "metadata": {
    "collapsed": false
   },
   "outputs": [],
   "source": [
    "# Replace all nan's with blank text\n",
    "\n",
    "#markets = markets.replace(np.nan,' ',regex=True) \n",
    "\n",
    "#markets.head()"
   ]
  },
  {
   "cell_type": "code",
   "execution_count": 90,
   "metadata": {
    "collapsed": false
   },
   "outputs": [
    {
     "name": "stdout",
     "output_type": "stream",
     "text": [
      "Index(['FMID', 'MarketName', 'Website', 'Facebook', 'Twitter', 'Youtube',\n",
      "       'OtherMedia', 'street', 'city', 'County', 'State', 'zip', 'region',\n",
      "       'Season1Date', 'Season1Time', 'Season2Date', 'Season2Time',\n",
      "       'Season3Date', 'Season3Time', 'Season4Date', 'Season4Time', 'x', 'y',\n",
      "       'Location', 'Credit', 'WIC', 'WICcash', 'SFMNP', 'SNAP', 'Organic',\n",
      "       'Bakedgoods', 'Cheese', 'Crafts', 'Flowers', 'Eggs', 'Seafood', 'Herbs',\n",
      "       'Vegetables', 'Honey', 'Jams', 'Maple', 'Meat', 'Nursery', 'Nuts',\n",
      "       'Plants', 'Poultry', 'Prepared', 'Soap', 'Trees', 'Wine', 'Coffee',\n",
      "       'Beans', 'Fruits', 'Grains', 'Juices', 'Mushrooms', 'PetFood', 'Tofu',\n",
      "       'WildHarvested', 'updateTime', 'cleanUpdateTime', 'cleanYear'],\n",
      "      dtype='object')\n"
     ]
    }
   ],
   "source": [
    "#Confirm new column is created with cleaned up data for time\n",
    "\n",
    "print(markets.columns)"
   ]
  },
  {
   "cell_type": "code",
   "execution_count": 91,
   "metadata": {
    "collapsed": false
   },
   "outputs": [
    {
     "data": {
      "text/plain": [
       "(8476, 62)"
      ]
     },
     "execution_count": 91,
     "metadata": {},
     "output_type": "execute_result"
    }
   ],
   "source": [
    "#Confirm new column is created with cleaned up data for time\n",
    "\n",
    "markets.shape\n"
   ]
  },
  {
   "cell_type": "markdown",
   "metadata": {},
   "source": [
    "### Groupby Functionality"
   ]
  },
  {
   "cell_type": "code",
   "execution_count": 66,
   "metadata": {
    "collapsed": false
   },
   "outputs": [
    {
     "name": "stdout",
     "output_type": "stream",
     "text": [
      "cleanYear\n",
      "2009    1815\n",
      "2010     340\n",
      "2011     754\n",
      "2012     790\n",
      "2013    1183\n",
      "2014    2278\n",
      "2015    1316\n",
      "Name: FMID, dtype: int64\n"
     ]
    },
    {
     "data": {
      "text/plain": [
       "<matplotlib.axes._subplots.AxesSubplot at 0x10bca2be0>"
      ]
     },
     "execution_count": 66,
     "metadata": {},
     "output_type": "execute_result"
    },
    {
     "data": {
      "image/png": "[encoded data removed]",
      "text/plain": [
       "<matplotlib.figure.Figure at 0x10bca2c88>"
      ]
     },
     "metadata": {},
     "output_type": "display_data"
    }
   ],
   "source": [
    "# Count FM additions to the database by year\n",
    "# Can understand this as FM's being tracked. Cannot assume FM is newly created until verify this data base \n",
    "# is linked to permits\n",
    "\n",
    "CountByYear = markets.groupby(markets['cleanYear'])['FMID'].count()\n",
    "print(CountByYear)\n",
    "CountByYear.plot(kind='bar')"
   ]
  },
  {
   "cell_type": "code",
   "execution_count": 67,
   "metadata": {
    "collapsed": false
   },
   "outputs": [
    {
     "name": "stdout",
     "output_type": "stream",
     "text": [
      "region\n",
      "Midnorth       2351\n",
      "Midsouth        820\n",
      "Northeast      1984\n",
      "Northwest       530\n",
      "Southeast      1639\n",
      "Southwest      1046\n",
      "Territories     105\n",
      "Name: FMID, dtype: int64\n"
     ]
    },
    {
     "data": {
      "text/plain": [
       "<matplotlib.axes._subplots.AxesSubplot at 0x10b97c518>"
      ]
     },
     "execution_count": 67,
     "metadata": {},
     "output_type": "execute_result"
    },
    {
     "data": {
      "image/png": "[encoded data removed]",
      "text/plain": [
       "<matplotlib.figure.Figure at 0x109d98898>"
      ]
     },
     "metadata": {},
     "output_type": "display_data"
    }
   ],
   "source": [
    "# Count by region\n",
    "\n",
    "CountbyRegion = markets.groupby(markets['region'])['FMID'].count()\n",
    "print(CountbyRegion)\n",
    "CountbyRegion.plot(kind='bar')\n"
   ]
  },
  {
   "cell_type": "code",
   "execution_count": 68,
   "metadata": {
    "collapsed": false
   },
   "outputs": [
    {
     "data": {
      "text/plain": [
       "<matplotlib.axes._subplots.AxesSubplot at 0x10a99a9b0>"
      ]
     },
     "execution_count": 68,
     "metadata": {},
     "output_type": "execute_result"
    },
    {
     "data": {
      "image/png": "[encoded data removed]",
      "text/plain": [
       "<matplotlib.figure.Figure at 0x10a9a9b70>"
      ]
     },
     "metadata": {},
     "output_type": "display_data"
    }
   ],
   "source": [
    "# Count by state\n",
    "\n",
    "CountbyState = markets.groupby(markets['State'])['FMID'].count()\n",
    "CountbyState.plot(kind='line')"
   ]
  },
  {
   "cell_type": "code",
   "execution_count": 69,
   "metadata": {
    "collapsed": false
   },
   "outputs": [
    {
     "name": "stdout",
     "output_type": "stream",
     "text": [
      "State\n",
      "Idaho            66\n",
      "Illinois        319\n",
      "Indiana         179\n",
      "Iowa            228\n",
      "Michigan        338\n",
      "Minnesota       189\n",
      "Montana          67\n",
      "Nebraska         97\n",
      "North Dakota     64\n",
      "Ohio            316\n",
      "Oklahoma         69\n",
      "South Dakota     38\n",
      "Utah             40\n",
      "Wisconsin       299\n",
      "Wyoming          42\n",
      "Name: FMID, dtype: int64\n"
     ]
    },
    {
     "data": {
      "text/plain": [
       "<matplotlib.axes._subplots.AxesSubplot at 0x10b9e2b38>"
      ]
     },
     "execution_count": 69,
     "metadata": {},
     "output_type": "execute_result"
    },
    {
     "data": {
      "image/png": "[encoded data removed]",
      "text/plain": [
       "<matplotlib.figure.Figure at 0x10b9ed5f8>"
      ]
     },
     "metadata": {},
     "output_type": "display_data"
    }
   ],
   "source": [
    "# Count by state in top region\n",
    "\n",
    "FM_midnorth = markets[markets['region'] == 'Midnorth']\n",
    "FM_midnorth.head()\n",
    "\n",
    "CountbyState2 = markets.groupby(FM_midnorth['State'])['FMID'].count()\n",
    "print(CountbyState2)\n",
    "CountbyState2.plot(kind='bar')"
   ]
  },
  {
   "cell_type": "code",
   "execution_count": 70,
   "metadata": {
    "collapsed": false
   },
   "outputs": [
    {
     "name": "stdout",
     "output_type": "stream",
     "text": [
      "State\n",
      "Connecticut             156\n",
      "Delaware                 26\n",
      "District of Columbia     35\n",
      "Maine                    93\n",
      "Massachusetts           308\n",
      "New Hampshire            97\n",
      "New Jersey              150\n",
      "New York                661\n",
      "Pennsylvania            303\n",
      "Rhode Island             58\n",
      "Vermont                  97\n",
      "Name: FMID, dtype: int64\n"
     ]
    },
    {
     "data": {
      "text/plain": [
       "<matplotlib.axes._subplots.AxesSubplot at 0x10be93080>"
      ]
     },
     "execution_count": 70,
     "metadata": {},
     "output_type": "execute_result"
    },
    {
     "data": {
      "image/png": "[encoded data removed]",
      "text/plain": [
       "<matplotlib.figure.Figure at 0x10a98c0f0>"
      ]
     },
     "metadata": {},
     "output_type": "display_data"
    }
   ],
   "source": [
    "# Count by state in second top region\n",
    "\n",
    "FM_northeast = markets[markets['region'] == 'Northeast']\n",
    "FM_northeast.head()\n",
    "\n",
    "CountbyState3 = markets.groupby(FM_northeast['State'])['FMID'].count()\n",
    "print(CountbyState3)\n",
    "CountbyState3.plot(kind='bar')"
   ]
  },
  {
   "cell_type": "code",
   "execution_count": 71,
   "metadata": {
    "collapsed": false
   },
   "outputs": [
    {
     "data": {
      "text/plain": [
       "(1441,)"
      ]
     },
     "execution_count": 71,
     "metadata": {},
     "output_type": "execute_result"
    }
   ],
   "source": [
    "# Count by County\n",
    "\n",
    "CountByCounty = markets.groupby(markets['County'])['FMID'].count()\n",
    "CountByCounty.shape"
   ]
  },
  {
   "cell_type": "markdown",
   "metadata": {},
   "source": [
    "###Practicing Plotting"
   ]
  },
  {
   "cell_type": "code",
   "execution_count": 93,
   "metadata": {
    "collapsed": false
   },
   "outputs": [
    {
     "data": {
      "text/plain": [
       "Index(['FMID', 'MarketName', 'Website', 'Facebook', 'Twitter', 'Youtube',\n",
       "       'OtherMedia', 'street', 'city', 'County', 'State', 'zip', 'region',\n",
       "       'Season1Date', 'Season1Time', 'Season2Date', 'Season2Time',\n",
       "       'Season3Date', 'Season3Time', 'Season4Date', 'Season4Time', 'x', 'y',\n",
       "       'Location', 'Credit', 'WIC', 'WICcash', 'SFMNP', 'SNAP', 'Organic',\n",
       "       'Bakedgoods', 'Cheese', 'Crafts', 'Flowers', 'Eggs', 'Seafood', 'Herbs',\n",
       "       'Vegetables', 'Honey', 'Jams', 'Maple', 'Meat', 'Nursery', 'Nuts',\n",
       "       'Plants', 'Poultry', 'Prepared', 'Soap', 'Trees', 'Wine', 'Coffee',\n",
       "       'Beans', 'Fruits', 'Grains', 'Juices', 'Mushrooms', 'PetFood', 'Tofu',\n",
       "       'WildHarvested', 'updateTime', 'cleanUpdateTime', 'cleanYear'],\n",
       "      dtype='object')"
      ]
     },
     "execution_count": 93,
     "metadata": {},
     "output_type": "execute_result"
    }
   ],
   "source": [
    "markets.columns"
   ]
  },
  {
   "cell_type": "code",
   "execution_count": 92,
   "metadata": {
    "collapsed": false
   },
   "outputs": [
    {
     "data": {
      "image/png": "[encoded data removed]",
      "text/plain": [
       "<matplotlib.figure.Figure at 0x10fda0b38>"
      ]
     },
     "metadata": {},
     "output_type": "display_data"
    }
   ],
   "source": [
    "_=pd.scatter_matrix(markets,figsize=(15,15))"
   ]
  },
  {
   "cell_type": "code",
   "execution_count": 94,
   "metadata": {
    "collapsed": false
   },
   "outputs": [
    {
     "data": {
      "text/plain": [
       "<matplotlib.collections.PathCollection at 0x10c9a6f28>"
      ]
     },
     "execution_count": 94,
     "metadata": {},
     "output_type": "execute_result"
    },
    {
     "data": {
      "image/png": "[encoded data removed]",
      "text/plain": [
       "<matplotlib.figure.Figure at 0x10cc1eb38>"
      ]
     },
     "metadata": {},
     "output_type": "display_data"
    }
   ],
   "source": [
    "#Attempt scatter plot\n",
    "\n",
    "plt.scatter(markets['x'],markets['y'])"
   ]
  },
  {
   "cell_type": "code",
   "execution_count": 101,
   "metadata": {
    "collapsed": false
   },
   "outputs": [],
   "source": [
    "from sklearn.cross_validation import train_test_split\n",
    "\n",
    "a, b = [markets['x'],markets['y']]"
   ]
  },
  {
   "cell_type": "code",
   "execution_count": 100,
   "metadata": {
    "collapsed": false
   },
   "outputs": [
    {
     "name": "stdout",
     "output_type": "stream",
     "text": [
      "3720   -122.277168\n",
      "2091   -117.978000\n",
      "5430    -74.259800\n",
      "4834    -82.572207\n",
      "7702    -77.373027\n",
      "4879   -120.993057\n",
      "5438   -117.381063\n",
      "3334    -93.609141\n",
      "2807    -97.450800\n",
      "8246    -83.804104\n",
      "1003    -83.239661\n",
      "4743    -75.048200\n",
      "5212    -97.600800\n",
      "7165   -101.131000\n",
      "555     -70.794075\n",
      "5969    -84.980500\n",
      "7348    -93.876145\n",
      "1485    -91.463400\n",
      "6247    -81.676290\n",
      "1272    -82.474700\n",
      "1411    -93.384400\n",
      "7694    -87.659000\n",
      "7977    -73.037600\n",
      "1471    -71.071630\n",
      "3649   -105.510000\n",
      "6832   -149.865468\n",
      "5480    -70.779658\n",
      "8184    -72.751672\n",
      "5040   -150.118018\n",
      "5749    -84.333754\n",
      "           ...    \n",
      "1899   -123.380000\n",
      "4658    -95.315881\n",
      "3005    -71.577800\n",
      "2734    -91.706486\n",
      "189     -84.350563\n",
      "2747    -71.422200\n",
      "2047    -71.031000\n",
      "7849   -119.335663\n",
      "2558    -69.773020\n",
      "6396    -74.103000\n",
      "3385   -110.953721\n",
      "4555    -74.006000\n",
      "1184    -84.299700\n",
      "6420    -73.833600\n",
      "5051    -86.510278\n",
      "5311   -117.067032\n",
      "2433    -87.823648\n",
      "6949    -92.248105\n",
      "769     -83.785200\n",
      "1685    -99.985900\n",
      "8322   -122.813734\n",
      "5578    -95.246300\n",
      "4426    -90.294300\n",
      "466     -90.384900\n",
      "6265    -86.883000\n",
      "5734    -89.836115\n",
      "5191    -72.102904\n",
      "5390   -101.503000\n",
      "860     -80.916900\n",
      "7270    -76.466800\n",
      "Name: x, dtype: float64\n"
     ]
    }
   ],
   "source": [
    "a_train, a_test, b_train, b_test = train_test_split(a, b, test_size=0.33, random_state=42)\n",
    "\n",
    "#print(a_train)"
   ]
  },
  {
   "cell_type": "code",
   "execution_count": 131,
   "metadata": {
    "collapsed": false
   },
   "outputs": [
    {
     "data": {
      "text/html": [
       "<div>\n",
       "<table border=\"1\" class=\"dataframe\">\n",
       "  <thead>\n",
       "    <tr style=\"text-align: right;\">\n",
       "      <th></th>\n",
       "      <th>FMID</th>\n",
       "      <th>x</th>\n",
       "      <th>y</th>\n",
       "      <th>cleanYear</th>\n",
       "    </tr>\n",
       "  </thead>\n",
       "  <tbody>\n",
       "    <tr>\n",
       "      <th>count</th>\n",
       "      <td>8476.000000</td>\n",
       "      <td>8446.000000</td>\n",
       "      <td>8446.000000</td>\n",
       "      <td>8476.000000</td>\n",
       "    </tr>\n",
       "    <tr>\n",
       "      <th>mean</th>\n",
       "      <td>1008934.303563</td>\n",
       "      <td>-91.128384</td>\n",
       "      <td>39.248774</td>\n",
       "      <td>2012.331288</td>\n",
       "    </tr>\n",
       "    <tr>\n",
       "      <th>std</th>\n",
       "      <td>57157.734676</td>\n",
       "      <td>17.426453</td>\n",
       "      <td>5.082776</td>\n",
       "      <td>2.163187</td>\n",
       "    </tr>\n",
       "    <tr>\n",
       "      <th>min</th>\n",
       "      <td>1000001.000000</td>\n",
       "      <td>-166.540000</td>\n",
       "      <td>17.709900</td>\n",
       "      <td>2009.000000</td>\n",
       "    </tr>\n",
       "    <tr>\n",
       "      <th>25%</th>\n",
       "      <td>1002781.750000</td>\n",
       "      <td>-97.330475</td>\n",
       "      <td>36.410976</td>\n",
       "      <td>2010.000000</td>\n",
       "    </tr>\n",
       "    <tr>\n",
       "      <th>50%</th>\n",
       "      <td>1005575.000000</td>\n",
       "      <td>-86.468321</td>\n",
       "      <td>40.062825</td>\n",
       "      <td>2013.000000</td>\n",
       "    </tr>\n",
       "    <tr>\n",
       "      <th>75%</th>\n",
       "      <td>1008562.250000</td>\n",
       "      <td>-77.671578</td>\n",
       "      <td>42.449670</td>\n",
       "      <td>2014.000000</td>\n",
       "    </tr>\n",
       "    <tr>\n",
       "      <th>max</th>\n",
       "      <td>2000036.000000</td>\n",
       "      <td>-64.704300</td>\n",
       "      <td>64.862750</td>\n",
       "      <td>2015.000000</td>\n",
       "    </tr>\n",
       "  </tbody>\n",
       "</table>\n",
       "</div>"
      ],
      "text/plain": [
       "                 FMID            x            y    cleanYear\n",
       "count     8476.000000  8446.000000  8446.000000  8476.000000\n",
       "mean   1008934.303563   -91.128384    39.248774  2012.331288\n",
       "std      57157.734676    17.426453     5.082776     2.163187\n",
       "min    1000001.000000  -166.540000    17.709900  2009.000000\n",
       "25%    1002781.750000   -97.330475    36.410976  2010.000000\n",
       "50%    1005575.000000   -86.468321    40.062825  2013.000000\n",
       "75%    1008562.250000   -77.671578    42.449670  2014.000000\n",
       "max    2000036.000000   -64.704300    64.862750  2015.000000"
      ]
     },
     "execution_count": 131,
     "metadata": {},
     "output_type": "execute_result"
    }
   ],
   "source": [
    "import pandas as pd\n",
    "\n",
    "markets['x'].fillna(method='pad', limit=1)\n",
    "markets['y'].fillna(method='pad', limit=1)\n",
    "\n",
    "markets['lat_long'] = markets[['x', 'y']].apply(tuple, axis=1)\n",
    "markets.describe()"
   ]
  },
  {
   "cell_type": "code",
   "execution_count": 105,
   "metadata": {
    "collapsed": false
   },
   "outputs": [
    {
     "name": "stdout",
     "output_type": "stream",
     "text": [
      "[(0       -85.575020\n",
      "1       -82.818700\n",
      "2       -94.274619\n",
      "3       -73.949300\n",
      "4       -86.790709\n",
      "5       -73.948248\n",
      "6       -75.534460\n",
      "7       -77.032050\n",
      "8       -77.231600\n",
      "9       -73.937802\n",
      "10      -93.259100\n",
      "11      -77.488600\n",
      "12      -75.173431\n",
      "13     -103.662538\n",
      "14      -88.163254\n",
      "15      -89.831575\n",
      "16      -73.994358\n",
      "17      -95.714514\n",
      "18      -75.181286\n",
      "19     -111.820523\n",
      "20      -75.172288\n",
      "21      -75.192040\n",
      "22      -79.048573\n",
      "23      -88.425186\n",
      "24      -86.002754\n",
      "25      -76.611000\n",
      "26      -75.187167\n",
      "27      -86.158750\n",
      "28     -119.767800\n",
      "29      -77.566604\n",
      "           ...    \n",
      "8446   -103.224000\n",
      "8447    -85.136171\n",
      "8448    -85.680506\n",
      "8449           NaN\n",
      "8450    -76.135642\n",
      "8451    -82.361700\n",
      "8452   -117.042000\n",
      "8453    -81.027000\n",
      "8454    -97.595572\n",
      "8455    -70.658500\n",
      "8456    -70.658729\n",
      "8457    -76.508216\n",
      "8458    -92.027600\n",
      "8459   -122.363000\n",
      "8460    -80.209281\n",
      "8461    -80.235390\n",
      "8462    -83.610184\n",
      "8463   -122.641254\n",
      "8464   -121.613835\n",
      "8465   -121.616935\n",
      "8466   -117.039000\n",
      "8467   -103.328000\n",
      "8468    -82.023000\n",
      "8469    -86.016500\n",
      "8470    -75.618400\n",
      "8471   -106.546840\n",
      "8472    -93.586173\n",
      "8473   -113.003311\n",
      "8474    -86.261200\n",
      "8475    -94.580864\n",
      "Name: x, dtype: float64, 0       42.295960\n",
      "1       34.804200\n",
      "2       37.495628\n",
      "3       40.793900\n",
      "4       36.118370\n",
      "5       40.808953\n",
      "6       39.742117\n",
      "7       38.916998\n",
      "8       39.831300\n",
      "9       40.845958\n",
      "10      45.004400\n",
      "11      37.558300\n",
      "12      39.940943\n",
      "13      41.864268\n",
      "14      39.490737\n",
      "15      44.394819\n",
      "16      40.404837\n",
      "17      39.028184\n",
      "18      39.932257\n",
      "19      41.778125\n",
      "20      40.004095\n",
      "21      39.937300\n",
      "22      37.583311\n",
      "23      41.356383\n",
      "24      30.279017\n",
      "25      39.327200\n",
      "26      39.988802\n",
      "27      39.826040\n",
      "28      39.162570\n",
      "29      43.165834\n",
      "          ...    \n",
      "8446    46.017600\n",
      "8447    41.079151\n",
      "8448    42.967077\n",
      "8449          NaN\n",
      "8450    36.842243\n",
      "8451    40.276000\n",
      "8452    32.720600\n",
      "8453    34.927600\n",
      "8454    40.871229\n",
      "8455    43.153800\n",
      "8456    43.154172\n",
      "8457    37.238099\n",
      "8458    41.963800\n",
      "8459    38.402900\n",
      "8460    25.850246\n",
      "8461    25.918423\n",
      "8462    42.246485\n",
      "8463    41.715188\n",
      "8464    39.133181\n",
      "8465    39.138392\n",
      "8466    34.033900\n",
      "8467    44.174200\n",
      "8468    39.923900\n",
      "8469    42.812300\n",
      "8470    40.321600\n",
      "8471    35.313704\n",
      "8472    45.438325\n",
      "8473    37.184508\n",
      "8474    39.949100\n",
      "8475    39.246317\n",
      "Name: y, dtype: float64)]\n"
     ]
    },
    {
     "ename": "ValueError",
     "evalue": "Found array with dim 3. Expected <= 2",
     "output_type": "error",
     "traceback": [
      "\u001b[0;31m---------------------------------------------------------------------------\u001b[0m",
      "\u001b[0;31mValueError\u001b[0m                                Traceback (most recent call last)",
      "\u001b[0;32m<ipython-input-105-869ada4d180f>\u001b[0m in \u001b[0;36m<module>\u001b[0;34m()\u001b[0m\n\u001b[1;32m      6\u001b[0m \u001b[0;32mfrom\u001b[0m \u001b[0msklearn\u001b[0m\u001b[0;34m.\u001b[0m\u001b[0mneighbors\u001b[0m \u001b[0;32mimport\u001b[0m \u001b[0mNearestNeighbors\u001b[0m\u001b[0;34m\u001b[0m\u001b[0m\n\u001b[1;32m      7\u001b[0m \u001b[0mneigh\u001b[0m \u001b[0;34m=\u001b[0m \u001b[0mNearestNeighbors\u001b[0m\u001b[0;34m(\u001b[0m\u001b[0mn_neighbors\u001b[0m\u001b[0;34m=\u001b[0m\u001b[0;36m1\u001b[0m\u001b[0;34m)\u001b[0m\u001b[0;34m\u001b[0m\u001b[0m\n\u001b[0;32m----> 8\u001b[0;31m \u001b[0mneigh\u001b[0m\u001b[0;34m.\u001b[0m\u001b[0mfit\u001b[0m\u001b[0;34m(\u001b[0m\u001b[0mloc\u001b[0m\u001b[0;34m)\u001b[0m\u001b[0;34m\u001b[0m\u001b[0m\n\u001b[0m\u001b[1;32m      9\u001b[0m \u001b[0mNearestNeighbors\u001b[0m\u001b[0;34m(\u001b[0m\u001b[0malgorithm\u001b[0m\u001b[0;34m=\u001b[0m\u001b[0;34m'auto'\u001b[0m\u001b[0;34m,\u001b[0m \u001b[0mleaf_size\u001b[0m\u001b[0;34m=\u001b[0m\u001b[0;36m30\u001b[0m\u001b[0;34m)\u001b[0m\u001b[0;34m\u001b[0m\u001b[0m\n\u001b[1;32m     10\u001b[0m \u001b[0mprint\u001b[0m\u001b[0;34m(\u001b[0m\u001b[0mneigh\u001b[0m\u001b[0;34m.\u001b[0m\u001b[0mkneighbors\u001b[0m\u001b[0;34m(\u001b[0m\u001b[0;34m[\u001b[0m\u001b[0;36m1.\u001b[0m\u001b[0;34m,\u001b[0m \u001b[0;36m1.\u001b[0m\u001b[0;34m]\u001b[0m\u001b[0;34m)\u001b[0m\u001b[0;34m)\u001b[0m\u001b[0;34m\u001b[0m\u001b[0m\n",
      "\u001b[0;32m/Users/sharonwang/anaconda/lib/python3.4/site-packages/sklearn/neighbors/base.py\u001b[0m in \u001b[0;36mfit\u001b[0;34m(self, X, y)\u001b[0m\n\u001b[1;32m    779\u001b[0m             \u001b[0mTraining\u001b[0m \u001b[0mdata\u001b[0m\u001b[0;34m.\u001b[0m \u001b[0mIf\u001b[0m \u001b[0marray\u001b[0m \u001b[0;32mor\u001b[0m \u001b[0mmatrix\u001b[0m\u001b[0;34m,\u001b[0m \u001b[0mshape\u001b[0m \u001b[0;34m=\u001b[0m \u001b[0;34m[\u001b[0m\u001b[0mn_samples\u001b[0m\u001b[0;34m,\u001b[0m \u001b[0mn_features\u001b[0m\u001b[0;34m]\u001b[0m\u001b[0;34m\u001b[0m\u001b[0m\n\u001b[1;32m    780\u001b[0m         \"\"\"\n\u001b[0;32m--> 781\u001b[0;31m         \u001b[0;32mreturn\u001b[0m \u001b[0mself\u001b[0m\u001b[0;34m.\u001b[0m\u001b[0m_fit\u001b[0m\u001b[0;34m(\u001b[0m\u001b[0mX\u001b[0m\u001b[0;34m)\u001b[0m\u001b[0;34m\u001b[0m\u001b[0m\n\u001b[0m",
      "\u001b[0;32m/Users/sharonwang/anaconda/lib/python3.4/site-packages/sklearn/neighbors/base.py\u001b[0m in \u001b[0;36m_fit\u001b[0;34m(self, X)\u001b[0m\n\u001b[1;32m    213\u001b[0m             \u001b[0;32mreturn\u001b[0m \u001b[0mself\u001b[0m\u001b[0;34m\u001b[0m\u001b[0m\n\u001b[1;32m    214\u001b[0m \u001b[0;34m\u001b[0m\u001b[0m\n\u001b[0;32m--> 215\u001b[0;31m         \u001b[0mX\u001b[0m \u001b[0;34m=\u001b[0m \u001b[0mcheck_array\u001b[0m\u001b[0;34m(\u001b[0m\u001b[0mX\u001b[0m\u001b[0;34m,\u001b[0m \u001b[0maccept_sparse\u001b[0m\u001b[0;34m=\u001b[0m\u001b[0;34m'csr'\u001b[0m\u001b[0;34m)\u001b[0m\u001b[0;34m\u001b[0m\u001b[0m\n\u001b[0m\u001b[1;32m    216\u001b[0m \u001b[0;34m\u001b[0m\u001b[0m\n\u001b[1;32m    217\u001b[0m         \u001b[0mn_samples\u001b[0m \u001b[0;34m=\u001b[0m \u001b[0mX\u001b[0m\u001b[0;34m.\u001b[0m\u001b[0mshape\u001b[0m\u001b[0;34m[\u001b[0m\u001b[0;36m0\u001b[0m\u001b[0;34m]\u001b[0m\u001b[0;34m\u001b[0m\u001b[0m\n",
      "\u001b[0;32m/Users/sharonwang/anaconda/lib/python3.4/site-packages/sklearn/utils/validation.py\u001b[0m in \u001b[0;36mcheck_array\u001b[0;34m(array, accept_sparse, dtype, order, copy, force_all_finite, ensure_2d, allow_nd, ensure_min_samples, ensure_min_features)\u001b[0m\n\u001b[1;32m    348\u001b[0m         \u001b[0;32mif\u001b[0m \u001b[0;32mnot\u001b[0m \u001b[0mallow_nd\u001b[0m \u001b[0;32mand\u001b[0m \u001b[0marray\u001b[0m\u001b[0;34m.\u001b[0m\u001b[0mndim\u001b[0m \u001b[0;34m>=\u001b[0m \u001b[0;36m3\u001b[0m\u001b[0;34m:\u001b[0m\u001b[0;34m\u001b[0m\u001b[0m\n\u001b[1;32m    349\u001b[0m             raise ValueError(\"Found array with dim %d. Expected <= 2\" %\n\u001b[0;32m--> 350\u001b[0;31m                              array.ndim)\n\u001b[0m\u001b[1;32m    351\u001b[0m         \u001b[0;32mif\u001b[0m \u001b[0mforce_all_finite\u001b[0m\u001b[0;34m:\u001b[0m\u001b[0;34m\u001b[0m\u001b[0m\n\u001b[1;32m    352\u001b[0m             \u001b[0m_assert_all_finite\u001b[0m\u001b[0;34m(\u001b[0m\u001b[0marray\u001b[0m\u001b[0;34m)\u001b[0m\u001b[0;34m\u001b[0m\u001b[0m\n",
      "\u001b[0;31mValueError\u001b[0m: Found array with dim 3. Expected <= 2"
     ]
    }
   ],
   "source": [
    "from sklearn.neighbors import NearestNeighbors\n",
    "\n",
    "neigh = NearestNeighbors(n_neighbors=1)\n",
    "neigh.fit(loc) \n",
    "\n",
    "NearestNeighbors(algorithm='auto', leaf_size=30)\n",
    "print(neigh.kneighbors([1., 1.])) \n"
   ]
  },
  {
   "cell_type": "code",
   "execution_count": 99,
   "metadata": {
    "collapsed": false
   },
   "outputs": [
    {
     "ename": "ValueError",
     "evalue": "Input contains NaN, infinity or a value too large for dtype('float64').",
     "output_type": "error",
     "traceback": [
      "\u001b[0;31m---------------------------------------------------------------------------\u001b[0m",
      "\u001b[0;31mValueError\u001b[0m                                Traceback (most recent call last)",
      "\u001b[0;32m<ipython-input-99-aa8e9acd5276>\u001b[0m in \u001b[0;36m<module>\u001b[0;34m()\u001b[0m\n\u001b[1;32m      5\u001b[0m \u001b[0;32mfrom\u001b[0m \u001b[0msklearn\u001b[0m\u001b[0;34m.\u001b[0m\u001b[0mneighbors\u001b[0m \u001b[0;32mimport\u001b[0m \u001b[0mKNeighborsClassifier\u001b[0m\u001b[0;34m\u001b[0m\u001b[0m\n\u001b[1;32m      6\u001b[0m \u001b[0mneigh\u001b[0m \u001b[0;34m=\u001b[0m \u001b[0mKNeighborsClassifier\u001b[0m\u001b[0;34m(\u001b[0m\u001b[0mn_neighbors\u001b[0m\u001b[0;34m=\u001b[0m\u001b[0;36m10\u001b[0m\u001b[0;34m)\u001b[0m\u001b[0;34m\u001b[0m\u001b[0m\n\u001b[0;32m----> 7\u001b[0;31m \u001b[0mneigh\u001b[0m\u001b[0;34m.\u001b[0m\u001b[0mfit\u001b[0m\u001b[0;34m(\u001b[0m\u001b[0mX\u001b[0m\u001b[0;34m,\u001b[0m \u001b[0my\u001b[0m\u001b[0;34m)\u001b[0m\u001b[0;34m\u001b[0m\u001b[0m\n\u001b[0m\u001b[1;32m      8\u001b[0m \u001b[0mprint\u001b[0m\u001b[0;34m(\u001b[0m\u001b[0mneigh\u001b[0m\u001b[0;34m.\u001b[0m\u001b[0mpredict\u001b[0m\u001b[0;34m(\u001b[0m\u001b[0;34m[\u001b[0m\u001b[0;34m[\u001b[0m\u001b[0;36m1.1\u001b[0m\u001b[0;34m]\u001b[0m\u001b[0;34m]\u001b[0m\u001b[0;34m)\u001b[0m\u001b[0;34m)\u001b[0m\u001b[0;34m\u001b[0m\u001b[0m\n\u001b[1;32m      9\u001b[0m \u001b[0mprint\u001b[0m\u001b[0;34m(\u001b[0m\u001b[0mneigh\u001b[0m\u001b[0;34m.\u001b[0m\u001b[0mpredict_proba\u001b[0m\u001b[0;34m(\u001b[0m\u001b[0;34m[\u001b[0m\u001b[0;34m[\u001b[0m\u001b[0;36m0.9\u001b[0m\u001b[0;34m]\u001b[0m\u001b[0;34m]\u001b[0m\u001b[0;34m)\u001b[0m\u001b[0;34m)\u001b[0m\u001b[0;34m\u001b[0m\u001b[0m\n",
      "\u001b[0;32m/Users/sharonwang/anaconda/lib/python3.4/site-packages/sklearn/neighbors/base.py\u001b[0m in \u001b[0;36mfit\u001b[0;34m(self, X, y)\u001b[0m\n\u001b[1;32m    743\u001b[0m         \"\"\"\n\u001b[1;32m    744\u001b[0m         \u001b[0;32mif\u001b[0m \u001b[0;32mnot\u001b[0m \u001b[0misinstance\u001b[0m\u001b[0;34m(\u001b[0m\u001b[0mX\u001b[0m\u001b[0;34m,\u001b[0m \u001b[0;34m(\u001b[0m\u001b[0mKDTree\u001b[0m\u001b[0;34m,\u001b[0m \u001b[0mBallTree\u001b[0m\u001b[0;34m)\u001b[0m\u001b[0;34m)\u001b[0m\u001b[0;34m:\u001b[0m\u001b[0;34m\u001b[0m\u001b[0m\n\u001b[0;32m--> 745\u001b[0;31m             \u001b[0mX\u001b[0m\u001b[0;34m,\u001b[0m \u001b[0my\u001b[0m \u001b[0;34m=\u001b[0m \u001b[0mcheck_X_y\u001b[0m\u001b[0;34m(\u001b[0m\u001b[0mX\u001b[0m\u001b[0;34m,\u001b[0m \u001b[0my\u001b[0m\u001b[0;34m,\u001b[0m \u001b[0;34m\"csr\"\u001b[0m\u001b[0;34m,\u001b[0m \u001b[0mmulti_output\u001b[0m\u001b[0;34m=\u001b[0m\u001b[0;32mTrue\u001b[0m\u001b[0;34m)\u001b[0m\u001b[0;34m\u001b[0m\u001b[0m\n\u001b[0m\u001b[1;32m    746\u001b[0m \u001b[0;34m\u001b[0m\u001b[0m\n\u001b[1;32m    747\u001b[0m         \u001b[0;32mif\u001b[0m \u001b[0my\u001b[0m\u001b[0;34m.\u001b[0m\u001b[0mndim\u001b[0m \u001b[0;34m==\u001b[0m \u001b[0;36m1\u001b[0m \u001b[0;32mor\u001b[0m \u001b[0my\u001b[0m\u001b[0;34m.\u001b[0m\u001b[0mndim\u001b[0m \u001b[0;34m==\u001b[0m \u001b[0;36m2\u001b[0m \u001b[0;32mand\u001b[0m \u001b[0my\u001b[0m\u001b[0;34m.\u001b[0m\u001b[0mshape\u001b[0m\u001b[0;34m[\u001b[0m\u001b[0;36m1\u001b[0m\u001b[0;34m]\u001b[0m \u001b[0;34m==\u001b[0m \u001b[0;36m1\u001b[0m\u001b[0;34m:\u001b[0m\u001b[0;34m\u001b[0m\u001b[0m\n",
      "\u001b[0;32m/Users/sharonwang/anaconda/lib/python3.4/site-packages/sklearn/utils/validation.py\u001b[0m in \u001b[0;36mcheck_X_y\u001b[0;34m(X, y, accept_sparse, dtype, order, copy, force_all_finite, ensure_2d, allow_nd, multi_output, ensure_min_samples, ensure_min_features, y_numeric)\u001b[0m\n\u001b[1;32m    442\u001b[0m     X = check_array(X, accept_sparse, dtype, order, copy, force_all_finite,\n\u001b[1;32m    443\u001b[0m                     \u001b[0mensure_2d\u001b[0m\u001b[0;34m,\u001b[0m \u001b[0mallow_nd\u001b[0m\u001b[0;34m,\u001b[0m \u001b[0mensure_min_samples\u001b[0m\u001b[0;34m,\u001b[0m\u001b[0;34m\u001b[0m\u001b[0m\n\u001b[0;32m--> 444\u001b[0;31m                     ensure_min_features)\n\u001b[0m\u001b[1;32m    445\u001b[0m     \u001b[0;32mif\u001b[0m \u001b[0mmulti_output\u001b[0m\u001b[0;34m:\u001b[0m\u001b[0;34m\u001b[0m\u001b[0m\n\u001b[1;32m    446\u001b[0m         y = check_array(y, 'csr', force_all_finite=True, ensure_2d=False,\n",
      "\u001b[0;32m/Users/sharonwang/anaconda/lib/python3.4/site-packages/sklearn/utils/validation.py\u001b[0m in \u001b[0;36mcheck_array\u001b[0;34m(array, accept_sparse, dtype, order, copy, force_all_finite, ensure_2d, allow_nd, ensure_min_samples, ensure_min_features)\u001b[0m\n\u001b[1;32m    350\u001b[0m                              array.ndim)\n\u001b[1;32m    351\u001b[0m         \u001b[0;32mif\u001b[0m \u001b[0mforce_all_finite\u001b[0m\u001b[0;34m:\u001b[0m\u001b[0;34m\u001b[0m\u001b[0m\n\u001b[0;32m--> 352\u001b[0;31m             \u001b[0m_assert_all_finite\u001b[0m\u001b[0;34m(\u001b[0m\u001b[0marray\u001b[0m\u001b[0;34m)\u001b[0m\u001b[0;34m\u001b[0m\u001b[0m\n\u001b[0m\u001b[1;32m    353\u001b[0m \u001b[0;34m\u001b[0m\u001b[0m\n\u001b[1;32m    354\u001b[0m     \u001b[0mshape_repr\u001b[0m \u001b[0;34m=\u001b[0m \u001b[0m_shape_repr\u001b[0m\u001b[0;34m(\u001b[0m\u001b[0marray\u001b[0m\u001b[0;34m.\u001b[0m\u001b[0mshape\u001b[0m\u001b[0;34m)\u001b[0m\u001b[0;34m\u001b[0m\u001b[0m\n",
      "\u001b[0;32m/Users/sharonwang/anaconda/lib/python3.4/site-packages/sklearn/utils/validation.py\u001b[0m in \u001b[0;36m_assert_all_finite\u001b[0;34m(X)\u001b[0m\n\u001b[1;32m     50\u001b[0m             and not np.isfinite(X).all()):\n\u001b[1;32m     51\u001b[0m         raise ValueError(\"Input contains NaN, infinity\"\n\u001b[0;32m---> 52\u001b[0;31m                          \" or a value too large for %r.\" % X.dtype)\n\u001b[0m\u001b[1;32m     53\u001b[0m \u001b[0;34m\u001b[0m\u001b[0m\n\u001b[1;32m     54\u001b[0m \u001b[0;34m\u001b[0m\u001b[0m\n",
      "\u001b[0;31mValueError\u001b[0m: Input contains NaN, infinity or a value too large for dtype('float64')."
     ]
    }
   ],
   "source": [
    "X = [a_train, b_train]\n",
    "y = [a_test, b_test]\n",
    "\n",
    "            \n",
    "from sklearn.neighbors import KNeighborsClassifier\n",
    "neigh = KNeighborsClassifier(n_neighbors=10)\n",
    "neigh.fit(X, y) \n",
    "print(neigh.predict([[1.1]]))\n",
    "print(neigh.predict_proba([[0.9]]))\n"
   ]
  },
  {
   "cell_type": "code",
   "execution_count": null,
   "metadata": {
    "collapsed": true
   },
   "outputs": [],
   "source": []
  },
  {
   "cell_type": "markdown",
   "metadata": {},
   "source": [
    "### Cleaning the Produce data"
   ]
  },
  {
   "cell_type": "code",
   "execution_count": null,
   "metadata": {
    "collapsed": false
   },
   "outputs": [],
   "source": [
    "markets.columns"
   ]
  },
  {
   "cell_type": "code",
   "execution_count": null,
   "metadata": {
    "collapsed": false
   },
   "outputs": [],
   "source": [
    "# Replace blank with 0, N with 0, and Y with 1 for all product columns.\n",
    "\n",
    "markets['cleanOrganic'] = markets['Organic'].replace({'N':0},regex=True).replace({'Y':1},regex=True).replace({'-':0},regex=True)\n",
    "\n",
    "markets['cleanBakedgoods'] = markets['Bakedgoods'].replace({'N':0},regex=True).replace({'Y':1},regex=True).replace({' ':0},regex=True)\n",
    "markets['cleanCheese'] = markets['Cheese'].replace({'N':0},regex=True).replace({'Y':1},regex=True).replace({' ':0},regex=True)\n",
    "markets['cleanCrafts'] = markets['Crafts'].replace({'N':0},regex=True).replace({'Y':1},regex=True).replace({' ':0},regex=True)\n",
    "markets['cleanFlowers'] = markets['Flowers'].replace({'N':0},regex=True).replace({'Y':1},regex=True).replace({' ':0},regex=True)\n",
    "markets['cleanEggs'] = markets['Eggs'].replace({'N':0},regex=True).replace({'Y':1},regex=True).replace({' ':0},regex=True)\n",
    "markets['cleanSeafood'] = markets['Seafood'].replace({'N':0},regex=True).replace({'Y':1},regex=True).replace({' ':0},regex=True)\n",
    "markets['cleanHerbs'] = markets['Herbs'].replace({'N':0},regex=True).replace({'Y':1},regex=True).replace({' ':0},regex=True)\n",
    "markets['cleanVegetables'] = markets['Vegetables'].replace({'N':0},regex=True).replace({'Y':1},regex=True).replace({' ':0},regex=True)\n",
    "markets['cleanHoney'] = markets['Honey'].replace({'N':0},regex=True).replace({'Y':1},regex=True).replace({' ':0},regex=True)\n",
    "markets['cleanJams'] = markets['Jams'].replace({'N':0},regex=True).replace({'Y':1},regex=True).replace({' ':0},regex=True)\n",
    "markets['cleanMaple'] = markets['Maple'].replace({'N':0},regex=True).replace({'Y':1},regex=True).replace({' ':0},regex=True)\n",
    "markets['cleanMeat'] = markets['Meat'].replace({'N':0},regex=True).replace({'Y':1},regex=True).replace({' ':0},regex=True)\n",
    "markets['cleanNursery'] = markets['Nursery'].replace({'N':0},regex=True).replace({'Y':1},regex=True).replace({' ':0},regex=True)\n",
    "markets['cleanPlants'] = markets['Plants'].replace({'N':0},regex=True).replace({'Y':1},regex=True).replace({' ':0},regex=True)\n",
    "markets['cleanPoultry'] = markets['Poultry'].replace({'N':0},regex=True).replace({'Y':1},regex=True).replace({' ':0},regex=True)\n",
    "markets['cleanPrepared'] = markets['Prepared'].replace({'N':0},regex=True).replace({'Y':1},regex=True).replace({' ':0},regex=True)\n",
    "markets['cleanSoap'] = markets['Soap'].replace({'N':0},regex=True).replace({'Y':1},regex=True).replace({' ':0},regex=True)\n",
    "markets['cleanTrees'] = markets['Trees'].replace({'N':0},regex=True).replace({'Y':1},regex=True).replace({' ':0},regex=True)\n",
    "markets['cleanWine'] = markets['Wine'].replace({'N':0},regex=True).replace({'Y':1},regex=True).replace({' ':0},regex=True)\n",
    "markets['cleanCoffee'] = markets['Coffee'].replace({'N':0},regex=True).replace({'Y':1},regex=True).replace({' ':0},regex=True)\n",
    "markets['cleanBeans'] = markets['Beans'].replace({'N':0},regex=True).replace({'Y':1},regex=True).replace({' ':0},regex=True)\n",
    "markets['cleanFruits'] = markets['Fruits'].replace({'N':0},regex=True).replace({'Y':1},regex=True).replace({' ':0},regex=True)\n",
    "markets['cleanGrains'] = markets['Grains'].replace({'N':0},regex=True).replace({'Y':1},regex=True).replace({' ':0},regex=True)\n",
    "markets['cleanJuices'] = markets['Juices'].replace({'N':0},regex=True).replace({'Y':1},regex=True).replace({' ':0},regex=True)\n",
    "markets['cleanMushrooms'] = markets['Mushrooms'].replace({'N':0},regex=True).replace({'Y':1},regex=True).replace({' ':0},regex=True)\n",
    "markets['cleanPetFood'] = markets['PetFood'].replace({'N':0},regex=True).replace({'Y':1},regex=True).replace({' ':0},regex=True)\n",
    "markets['cleanTofu'] = markets['Tofu'].replace({'N':0},regex=True).replace({'Y':1},regex=True).replace({' ':0},regex=True)\n",
    "markets['cleanWildHarvested'] = markets['WildHarvested'].replace({'N':0},regex=True).replace({'Y':1},regex=True).replace({' ':0},regex=True)\n",
    "\n",
    "markets.head()\n",
    "\n"
   ]
  },
  {
   "cell_type": "code",
   "execution_count": null,
   "metadata": {
    "collapsed": false
   },
   "outputs": [],
   "source": [
    "#drop old product columns\n",
    "markets2 = markets.drop('Organic',1).drop('Bakedgoods',1).drop('Cheese',1).drop('Crafts',1).drop('Flowers',1).drop('Eggs',1).drop('Seafood',1).drop('Herbs',1).drop('Vegetables',1).drop('Honey',1).drop('Jams',1).drop('Maple',1).drop('Meat',1).drop('Nursery',1).drop('Nuts',1).drop('Plants',1).drop('Poultry',1).drop('Prepared',1).drop('Soap',1).drop('Trees',1).drop('Wine',1).drop('Coffee',1).drop('Beans',1).drop('Fruits',1).drop('Grains',1).drop('Juices',1).drop('Mushrooms',1).drop('PetFood',1).drop('Tofu',1).drop('WildHarvested',1)\n",
    "\n",
    "#print columns for new temp table\n",
    "markets2.columns"
   ]
  },
  {
   "cell_type": "code",
   "execution_count": null,
   "metadata": {
    "collapsed": true
   },
   "outputs": [],
   "source": []
  },
  {
   "cell_type": "code",
   "execution_count": null,
   "metadata": {
    "collapsed": true
   },
   "outputs": [],
   "source": []
  },
  {
   "cell_type": "markdown",
   "metadata": {
    "collapsed": true
   },
   "source": [
    "### Winter Market availability"
   ]
  },
  {
   "cell_type": "code",
   "execution_count": null,
   "metadata": {
    "collapsed": true
   },
   "outputs": [],
   "source": []
  },
  {
   "cell_type": "code",
   "execution_count": null,
   "metadata": {
    "collapsed": true
   },
   "outputs": [],
   "source": []
  },
  {
   "cell_type": "markdown",
   "metadata": {},
   "source": [
    "## Classifying "
   ]
  },
  {
   "cell_type": "code",
   "execution_count": null,
   "metadata": {
    "collapsed": false
   },
   "outputs": [],
   "source": [
    "from sklearn.cross_validation import train_test_split\n",
    "\n",
    "from sklearn.feature_extraction.text import CountVectorizer\n",
    "from sklearn.feature_extraction.text import TfidfTransformer\n",
    "from sklearn.feature_extraction.text import TfidfVectorizer\n",
    "\n",
    "from nltk import bigrams, trigrams, ngrams\n",
    "\n",
    "from sklearn.naive_bayes import MultinomialNB\n",
    "from sklearn.naive_bayes import BernoulliNB\n"
   ]
  },
  {
   "cell_type": "code",
   "execution_count": null,
   "metadata": {
    "collapsed": false
   },
   "outputs": [],
   "source": [
    "# Purpose of classifying is to predict farmers' markets where cash is accepted as a form of payment\n",
    "\n",
    "markets2.columns"
   ]
  },
  {
   "cell_type": "code",
   "execution_count": null,
   "metadata": {
    "collapsed": false
   },
   "outputs": [],
   "source": [
    "# Create a full address column.  May be use as \"string of text\" and then can apply \n",
    "# the text analysis learned in Class 15 - 17\n",
    "\n",
    "markets2['address'] = markets['street'] + markets['city'] + markets['State'] + markets['zip']\n",
    "markets2.columns"
   ]
  },
  {
   "cell_type": "code",
   "execution_count": null,
   "metadata": {
    "collapsed": false
   },
   "outputs": [],
   "source": [
    "#markets2 = markets.replace(np.nan,' ',regex=True) "
   ]
  },
  {
   "cell_type": "code",
   "execution_count": null,
   "metadata": {
    "collapsed": true
   },
   "outputs": [],
   "source": [
    "from matplotlib.colors import ListedColormap\n",
    "from sklearn.linear_model import LinearRegression\n",
    "from sklearn.linear_model import LogisticRegression\n",
    "from sklearn.cross_validation import train_test_split\n",
    "from sklearn.metrics import confusion_matrix as sk_confusion_matrix\n",
    "from sklearn.metrics import roc_curve, auc"
   ]
  },
  {
   "cell_type": "code",
   "execution_count": null,
   "metadata": {
    "collapsed": false
   },
   "outputs": [],
   "source": [
    "markets2.shape"
   ]
  },
  {
   "cell_type": "code",
   "execution_count": null,
   "metadata": {
    "collapsed": false
   },
   "outputs": [],
   "source": [
    "# create train and test datasets using the 80/20 rule. Row calculates to 1695\n",
    "\n",
    "#row = len(markets2) * .2\n",
    "#row\n",
    "\n",
    "#markets2_train = markets2[:1695]\n",
    "#markets2_test  = markets2[1695:]\n",
    "\n",
    "####\n",
    "\"\"\"LIST:: , 'cleanOrganic','cleanBakedgoods', 'cleanCheese', 'cleanCrafts', 'cleanFlowers',\n",
    "        'cleanEggs', 'cleanSeafood', 'cleanHerbs', 'cleanVegetables',\n",
    "       'cleanHoney', 'cleanJams', 'cleanMaple', 'cleanMeat', 'cleanNursery',\n",
    "       'cleanPlants', 'cleanPoultry', 'cleanPrepared', 'cleanSoap',\n",
    "       'cleanTrees', 'cleanWine', 'cleanCoffee', 'cleanBeans', 'cleanFruits',\n",
    "       'cleanGrains', 'cleanJuices', 'cleanMushrooms', 'cleanPetFood',\n",
    "       'cleanTofu'\"\"\"\n",
    "\n",
    "# get feature/predictor matrix as numpy array\n",
    "X = markets2[['cleanWildHarvested']].values\n",
    "y = markets2[['region']].values\n",
    "#classes, y = np.unique(markets2.default.values, return_inverse=True)\n",
    "\n",
    "print(X)\n",
    "print(y)\n",
    "\n",
    "# create 80%-20% train-test split\n",
    "X_train, X_test, y_train, y_test = train_test_split(X, y, test_size=0.2)\n",
    "\n",
    "print(X_train)\n"
   ]
  },
  {
   "cell_type": "code",
   "execution_count": null,
   "metadata": {
    "collapsed": false
   },
   "outputs": [],
   "source": [
    "# Consider classifying using columns where values are Yes and No's.  Pick WildHarvested to start with.\n",
    "\n",
    "from sklearn.metrics import classification_report\n",
    "\n",
    "print(X_train.shape)\n",
    "print(y_train.shape)\n",
    "\n",
    "lr_clf = LogisticRegression(C=10)\n",
    "lr_clf.fit(X_train, y_train)\n",
    "lr_clf.predict(X_test)\n",
    "\n",
    "y_test_predicted = lr_clf.predict(X_test)\n",
    "print(pd.crosstab(y_test, y_test_predicted, rownames=[\"Actual\"], colnames=[\"Predicted\"]))\n",
    "print(classification_report(y_test, y_test_predicted))"
   ]
  },
  {
   "cell_type": "code",
   "execution_count": null,
   "metadata": {
    "collapsed": false
   },
   "outputs": [],
   "source": [
    "from sklearn.neighbors import KNeighborsClassifier\n",
    "\n",
    "\n",
    "neigh = KNeighborsClassifier(n_neighbors=3)\n",
    "neigh.fit(X, y) \n",
    "\n",
    "print(neigh.predict([[0.00125]]))\n",
    "print(neigh.predict_proba([[]]))\n"
   ]
  },
  {
   "cell_type": "code",
   "execution_count": null,
   "metadata": {
    "collapsed": true
   },
   "outputs": [],
   "source": []
  }
 ],
 "metadata": {
  "kernelspec": {
   "display_name": "Python 3",
   "language": "python",
   "name": "python3"
  },
  "language_info": {
   "codemirror_mode": {
    "name": "ipython",
    "version": 3
   },
   "file_extension": ".py",
   "mimetype": "text/x-python",
   "name": "python",
   "nbconvert_exporter": "python",
   "pygments_lexer": "ipython3",
   "version": "3.4.3"
  }
 },
 "nbformat": 4,
 "nbformat_minor": 0
}
