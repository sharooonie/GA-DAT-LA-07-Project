{
 "cells": [
  {
   "cell_type": "markdown",
   "metadata": {},
   "source": [
    "#Likelihood of Social Media Presence by Region of Farmers' Market"
   ]
  },
  {
   "cell_type": "markdown",
   "metadata": {},
   "source": [
    "### Have you ever wondered which part of the U.S. leverages Social Media for local farmers' market sales more or less? "
   ]
  },
  {
   "cell_type": "code",
   "execution_count": 369,
   "metadata": {
    "collapsed": true
   },
   "outputs": [],
   "source": [
    "import numpy as np\n",
    "import matplotlib.pyplot as plt\n",
    "import pandas as pd\n",
    "from datetime import datetime\n",
    "\n",
    "%matplotlib inline\n",
    "\n",
    "import statsmodels.api as sm"
   ]
  },
  {
   "cell_type": "code",
   "execution_count": 370,
   "metadata": {
    "collapsed": false
   },
   "outputs": [
    {
     "data": {
      "text/html": [
       "<div>\n",
       "<table border=\"1\" class=\"dataframe\">\n",
       "  <thead>\n",
       "    <tr style=\"text-align: right;\">\n",
       "      <th></th>\n",
       "      <th>FMID</th>\n",
       "      <th>MarketName</th>\n",
       "      <th>Website</th>\n",
       "      <th>Facebook</th>\n",
       "      <th>Twitter</th>\n",
       "      <th>Youtube</th>\n",
       "      <th>OtherMedia</th>\n",
       "      <th>street</th>\n",
       "      <th>city</th>\n",
       "      <th>County</th>\n",
       "      <th>...</th>\n",
       "      <th>Coffee</th>\n",
       "      <th>Beans</th>\n",
       "      <th>Fruits</th>\n",
       "      <th>Grains</th>\n",
       "      <th>Juices</th>\n",
       "      <th>Mushrooms</th>\n",
       "      <th>PetFood</th>\n",
       "      <th>Tofu</th>\n",
       "      <th>WildHarvested</th>\n",
       "      <th>updateTime</th>\n",
       "    </tr>\n",
       "  </thead>\n",
       "  <tbody>\n",
       "    <tr>\n",
       "      <th>0</th>\n",
       "      <td>1000618</td>\n",
       "      <td>100-Mile Market</td>\n",
       "      <td>http://www.peoplesfoodco-op.org/</td>\n",
       "      <td></td>\n",
       "      <td></td>\n",
       "      <td></td>\n",
       "      <td></td>\n",
       "      <td>507 Harrison Street</td>\n",
       "      <td>Kalamazoo</td>\n",
       "      <td>Kalamazoo</td>\n",
       "      <td>...</td>\n",
       "      <td>Y</td>\n",
       "      <td>N</td>\n",
       "      <td>Y</td>\n",
       "      <td>N</td>\n",
       "      <td>N</td>\n",
       "      <td>Y</td>\n",
       "      <td>N</td>\n",
       "      <td>N</td>\n",
       "      <td>Y</td>\n",
       "      <td>4/24/2014 18:22</td>\n",
       "    </tr>\n",
       "    <tr>\n",
       "      <th>1</th>\n",
       "      <td>1009364</td>\n",
       "      <td>106 S. Main Street Farmers Market</td>\n",
       "      <td>http://thetownofsixmile.wordpress.com/</td>\n",
       "      <td></td>\n",
       "      <td></td>\n",
       "      <td></td>\n",
       "      <td></td>\n",
       "      <td>106 S. Main Street</td>\n",
       "      <td>Six Mile</td>\n",
       "      <td></td>\n",
       "      <td>...</td>\n",
       "      <td></td>\n",
       "      <td></td>\n",
       "      <td></td>\n",
       "      <td></td>\n",
       "      <td></td>\n",
       "      <td></td>\n",
       "      <td></td>\n",
       "      <td></td>\n",
       "      <td></td>\n",
       "      <td>2013</td>\n",
       "    </tr>\n",
       "    <tr>\n",
       "      <th>2</th>\n",
       "      <td>1010691</td>\n",
       "      <td>10th Steet Community Farmers Market</td>\n",
       "      <td></td>\n",
       "      <td></td>\n",
       "      <td></td>\n",
       "      <td></td>\n",
       "      <td>http://agrimissouri.com/mo-grown/grodetail.php...</td>\n",
       "      <td>10th Street and Poplar</td>\n",
       "      <td>Lamar</td>\n",
       "      <td>Barton</td>\n",
       "      <td>...</td>\n",
       "      <td>N</td>\n",
       "      <td>N</td>\n",
       "      <td>Y</td>\n",
       "      <td>N</td>\n",
       "      <td>N</td>\n",
       "      <td>N</td>\n",
       "      <td>N</td>\n",
       "      <td>N</td>\n",
       "      <td>N</td>\n",
       "      <td>10/28/2014 9:49</td>\n",
       "    </tr>\n",
       "    <tr>\n",
       "      <th>3</th>\n",
       "      <td>1002454</td>\n",
       "      <td>112st Madison Avenue</td>\n",
       "      <td></td>\n",
       "      <td></td>\n",
       "      <td></td>\n",
       "      <td></td>\n",
       "      <td></td>\n",
       "      <td>112th Madison Avenue</td>\n",
       "      <td>New York</td>\n",
       "      <td>New York</td>\n",
       "      <td>...</td>\n",
       "      <td>N</td>\n",
       "      <td>N</td>\n",
       "      <td>N</td>\n",
       "      <td>N</td>\n",
       "      <td>N</td>\n",
       "      <td>N</td>\n",
       "      <td>N</td>\n",
       "      <td>N</td>\n",
       "      <td>N</td>\n",
       "      <td>3/1/2012 10:38</td>\n",
       "    </tr>\n",
       "    <tr>\n",
       "      <th>4</th>\n",
       "      <td>1011100</td>\n",
       "      <td>12 South Farmers Market</td>\n",
       "      <td>http://www.12southfarmersmarket.com</td>\n",
       "      <td>12_South_Farmers_Market</td>\n",
       "      <td>@12southfrmsmkt</td>\n",
       "      <td></td>\n",
       "      <td>@12southfrmsmkt</td>\n",
       "      <td>3000 Granny White Pike</td>\n",
       "      <td>Nashville</td>\n",
       "      <td>Davidson</td>\n",
       "      <td>...</td>\n",
       "      <td>Y</td>\n",
       "      <td>N</td>\n",
       "      <td>Y</td>\n",
       "      <td>N</td>\n",
       "      <td>Y</td>\n",
       "      <td>Y</td>\n",
       "      <td>Y</td>\n",
       "      <td>N</td>\n",
       "      <td>N</td>\n",
       "      <td>5/1/2015 10:40</td>\n",
       "    </tr>\n",
       "  </tbody>\n",
       "</table>\n",
       "<p>5 rows × 60 columns</p>\n",
       "</div>"
      ],
      "text/plain": [
       "      FMID                           MarketName  \\\n",
       "0  1000618                      100-Mile Market   \n",
       "1  1009364    106 S. Main Street Farmers Market   \n",
       "2  1010691  10th Steet Community Farmers Market   \n",
       "3  1002454                 112st Madison Avenue   \n",
       "4  1011100              12 South Farmers Market   \n",
       "\n",
       "                                  Website                 Facebook  \\\n",
       "0        http://www.peoplesfoodco-op.org/                            \n",
       "1  http://thetownofsixmile.wordpress.com/                            \n",
       "2                                                                    \n",
       "3                                                                    \n",
       "4     http://www.12southfarmersmarket.com  12_South_Farmers_Market   \n",
       "\n",
       "           Twitter Youtube                                         OtherMedia  \\\n",
       "0                                                                               \n",
       "1                                                                               \n",
       "2                           http://agrimissouri.com/mo-grown/grodetail.php...   \n",
       "3                                                                               \n",
       "4  @12southfrmsmkt                                            @12southfrmsmkt   \n",
       "\n",
       "                   street       city     County       ...        Coffee Beans  \\\n",
       "0     507 Harrison Street  Kalamazoo  Kalamazoo       ...             Y     N   \n",
       "1      106 S. Main Street   Six Mile                  ...                       \n",
       "2  10th Street and Poplar     Lamar      Barton       ...             N     N   \n",
       "3    112th Madison Avenue   New York   New York       ...             N     N   \n",
       "4  3000 Granny White Pike  Nashville   Davidson       ...             Y     N   \n",
       "\n",
       "  Fruits Grains Juices Mushrooms PetFood Tofu WildHarvested       updateTime  \n",
       "0      Y      N      N         Y       N    N             Y  4/24/2014 18:22  \n",
       "1                                                                       2013  \n",
       "2      Y      N      N         N       N    N             N  10/28/2014 9:49  \n",
       "3      N      N      N         N       N    N             N   3/1/2012 10:38  \n",
       "4      Y      N      Y         Y       Y    N             N   5/1/2015 10:40  \n",
       "\n",
       "[5 rows x 60 columns]"
      ]
     },
     "execution_count": 370,
     "metadata": {},
     "output_type": "execute_result"
    }
   ],
   "source": [
    "#import the file and check the first and last rows\n",
    "\n",
    "markets = pd.read_csv(\"../GA-DAT-LA-07-Project/Export-5.csv\")\n",
    "markets = markets.replace(np.nan,' ',regex=True) \n",
    "markets.head()"
   ]
  },
  {
   "cell_type": "code",
   "execution_count": 371,
   "metadata": {
    "collapsed": false
   },
   "outputs": [
    {
     "data": {
      "text/html": [
       "<div>\n",
       "<table border=\"1\" class=\"dataframe\">\n",
       "  <thead>\n",
       "    <tr style=\"text-align: right;\">\n",
       "      <th></th>\n",
       "      <th>Year</th>\n",
       "      <th>Fresh Fruit</th>\n",
       "      <th>Processed Fruit Canning</th>\n",
       "      <th>Processed Fruit Freeze</th>\n",
       "      <th>Processed Fruit Dried</th>\n",
       "      <th>Processed Fruit Juice</th>\n",
       "      <th>Processed Fruit Other</th>\n",
       "      <th>Fresh Vegetables</th>\n",
       "      <th>Processed Vegetables Canning</th>\n",
       "      <th>Processed Vegetables Freeze</th>\n",
       "      <th>Processed Vegetables Dried</th>\n",
       "      <th>Processed Vegetables Chips</th>\n",
       "      <th>Processed Vegetables Legumes</th>\n",
       "    </tr>\n",
       "  </thead>\n",
       "  <tbody>\n",
       "    <tr>\n",
       "      <th>0</th>\n",
       "      <td>1970</td>\n",
       "      <td>100.9</td>\n",
       "      <td>26.2</td>\n",
       "      <td>3.9</td>\n",
       "      <td>10.0</td>\n",
       "      <td>96.7</td>\n",
       "      <td>0.7</td>\n",
       "      <td>154.4</td>\n",
       "      <td>93.0</td>\n",
       "      <td>43.7</td>\n",
       "      <td>13.1</td>\n",
       "      <td>17.4</td>\n",
       "      <td>6.3</td>\n",
       "    </tr>\n",
       "    <tr>\n",
       "      <th>1</th>\n",
       "      <td>1971</td>\n",
       "      <td>100.9</td>\n",
       "      <td>26.5</td>\n",
       "      <td>4.0</td>\n",
       "      <td>10.0</td>\n",
       "      <td>101.2</td>\n",
       "      <td>0.6</td>\n",
       "      <td>148.1</td>\n",
       "      <td>108.0</td>\n",
       "      <td>45.3</td>\n",
       "      <td>13.8</td>\n",
       "      <td>17.2</td>\n",
       "      <td>6.8</td>\n",
       "    </tr>\n",
       "    <tr>\n",
       "      <th>2</th>\n",
       "      <td>1972</td>\n",
       "      <td>94.4</td>\n",
       "      <td>24.2</td>\n",
       "      <td>4.0</td>\n",
       "      <td>7.2</td>\n",
       "      <td>101.4</td>\n",
       "      <td>0.7</td>\n",
       "      <td>151.4</td>\n",
       "      <td>104.0</td>\n",
       "      <td>45.3</td>\n",
       "      <td>13.3</td>\n",
       "      <td>16.7</td>\n",
       "      <td>5.8</td>\n",
       "    </tr>\n",
       "    <tr>\n",
       "      <th>3</th>\n",
       "      <td>1973</td>\n",
       "      <td>96.7</td>\n",
       "      <td>24.5</td>\n",
       "      <td>4.1</td>\n",
       "      <td>10.2</td>\n",
       "      <td>99.8</td>\n",
       "      <td>0.6</td>\n",
       "      <td>148.1</td>\n",
       "      <td>98.7</td>\n",
       "      <td>50.6</td>\n",
       "      <td>14.2</td>\n",
       "      <td>16.3</td>\n",
       "      <td>7.6</td>\n",
       "    </tr>\n",
       "    <tr>\n",
       "      <th>4</th>\n",
       "      <td>1974</td>\n",
       "      <td>96.1</td>\n",
       "      <td>24.0</td>\n",
       "      <td>3.3</td>\n",
       "      <td>9.7</td>\n",
       "      <td>101.6</td>\n",
       "      <td>1.0</td>\n",
       "      <td>146.2</td>\n",
       "      <td>99.5</td>\n",
       "      <td>51.0</td>\n",
       "      <td>16.1</td>\n",
       "      <td>15.7</td>\n",
       "      <td>5.5</td>\n",
       "    </tr>\n",
       "  </tbody>\n",
       "</table>\n",
       "</div>"
      ],
      "text/plain": [
       "   Year  Fresh Fruit  Processed Fruit Canning  Processed Fruit Freeze  \\\n",
       "0  1970        100.9                     26.2                     3.9   \n",
       "1  1971        100.9                     26.5                     4.0   \n",
       "2  1972         94.4                     24.2                     4.0   \n",
       "3  1973         96.7                     24.5                     4.1   \n",
       "4  1974         96.1                     24.0                     3.3   \n",
       "\n",
       "   Processed Fruit Dried  Processed Fruit Juice  Processed Fruit Other  \\\n",
       "0                   10.0                   96.7                    0.7   \n",
       "1                   10.0                  101.2                    0.6   \n",
       "2                    7.2                  101.4                    0.7   \n",
       "3                   10.2                   99.8                    0.6   \n",
       "4                    9.7                  101.6                    1.0   \n",
       "\n",
       "   Fresh Vegetables  Processed Vegetables Canning  \\\n",
       "0             154.4                          93.0   \n",
       "1             148.1                         108.0   \n",
       "2             151.4                         104.0   \n",
       "3             148.1                          98.7   \n",
       "4             146.2                          99.5   \n",
       "\n",
       "   Processed Vegetables Freeze  Processed Vegetables Dried  \\\n",
       "0                         43.7                        13.1   \n",
       "1                         45.3                        13.8   \n",
       "2                         45.3                        13.3   \n",
       "3                         50.6                        14.2   \n",
       "4                         51.0                        16.1   \n",
       "\n",
       "   Processed Vegetables Chips  Processed Vegetables Legumes  \n",
       "0                        17.4                           6.3  \n",
       "1                        17.2                           6.8  \n",
       "2                        16.7                           5.8  \n",
       "3                        16.3                           7.6  \n",
       "4                        15.7                           5.5  "
      ]
     },
     "execution_count": 371,
     "metadata": {},
     "output_type": "execute_result"
    }
   ],
   "source": [
    "#import the file and check the first and last rows\n",
    "\n",
    "fruitveg = pd.read_csv(\"../GA-DAT-LA-07-Project/fruitveg.csv\")\n",
    "fruitveg = fruitveg.replace(np.nan,' ',regex=True) \n",
    "fruitveg.head()"
   ]
  },
  {
   "cell_type": "code",
   "execution_count": 372,
   "metadata": {
    "collapsed": false
   },
   "outputs": [
    {
     "data": {
      "text/plain": [
       "dtype('float64')"
      ]
     },
     "execution_count": 372,
     "metadata": {},
     "output_type": "execute_result"
    }
   ],
   "source": [
    "fruitveg['Fresh Vegetables'].dtype"
   ]
  },
  {
   "cell_type": "code",
   "execution_count": 373,
   "metadata": {
    "collapsed": false
   },
   "outputs": [
    {
     "data": {
      "text/plain": [
       "Index(['FMID', 'MarketName', 'Website', 'Facebook', 'Twitter', 'Youtube',\n",
       "       'OtherMedia', 'street', 'city', 'County', 'State', 'zip', 'region',\n",
       "       'Season1Date', 'Season1Time', 'Season2Date', 'Season2Time',\n",
       "       'Season3Date', 'Season3Time', 'Season4Date', 'Season4Time', 'x', 'y',\n",
       "       'Location', 'Credit', 'WIC', 'WICcash', 'SFMNP', 'SNAP', 'Organic',\n",
       "       'Bakedgoods', 'Cheese', 'Crafts', 'Flowers', 'Eggs', 'Seafood', 'Herbs',\n",
       "       'Vegetables', 'Honey', 'Jams', 'Maple', 'Meat', 'Nursery', 'Nuts',\n",
       "       'Plants', 'Poultry', 'Prepared', 'Soap', 'Trees', 'Wine', 'Coffee',\n",
       "       'Beans', 'Fruits', 'Grains', 'Juices', 'Mushrooms', 'PetFood', 'Tofu',\n",
       "       'WildHarvested', 'updateTime'],\n",
       "      dtype='object')"
      ]
     },
     "execution_count": 373,
     "metadata": {},
     "output_type": "execute_result"
    }
   ],
   "source": [
    "# What data do I have to analyze?\n",
    "\n",
    "markets.columns"
   ]
  },
  {
   "cell_type": "code",
   "execution_count": 374,
   "metadata": {
    "collapsed": false
   },
   "outputs": [
    {
     "data": {
      "text/plain": [
       "Index(['Year', 'Fresh Fruit', 'Processed Fruit Canning',\n",
       "       'Processed Fruit Freeze', 'Processed Fruit Dried',\n",
       "       'Processed Fruit Juice', 'Processed Fruit Other', 'Fresh Vegetables',\n",
       "       'Processed Vegetables Canning', 'Processed Vegetables Freeze',\n",
       "       'Processed Vegetables Dried', 'Processed Vegetables Chips',\n",
       "       'Processed Vegetables Legumes'],\n",
       "      dtype='object')"
      ]
     },
     "execution_count": 374,
     "metadata": {},
     "output_type": "execute_result"
    }
   ],
   "source": [
    "fruitveg.columns"
   ]
  },
  {
   "cell_type": "code",
   "execution_count": 375,
   "metadata": {
    "collapsed": false
   },
   "outputs": [],
   "source": [
    "# Create a function to determine when social media information is provided.  Interpretation of this information is \n",
    "# the farmers' market actively uses its social media if they chose to share the information in the USDA directory\n",
    "\n",
    "def social(row):\n",
    "    if (row['Facebook'] == \" \") and (row['Twitter'] == ' ') and (row['Youtube'] == ' ') and (row['OtherMedia'] == ' '):\n",
    "        return '0'\n",
    "    return '1'"
   ]
  },
  {
   "cell_type": "code",
   "execution_count": 376,
   "metadata": {
    "collapsed": false
   },
   "outputs": [
    {
     "data": {
      "text/html": [
       "<div>\n",
       "<table border=\"1\" class=\"dataframe\">\n",
       "  <thead>\n",
       "    <tr style=\"text-align: right;\">\n",
       "      <th></th>\n",
       "      <th>FMID</th>\n",
       "      <th>MarketName</th>\n",
       "      <th>Website</th>\n",
       "      <th>Facebook</th>\n",
       "      <th>Twitter</th>\n",
       "      <th>Youtube</th>\n",
       "      <th>OtherMedia</th>\n",
       "      <th>street</th>\n",
       "      <th>city</th>\n",
       "      <th>County</th>\n",
       "      <th>...</th>\n",
       "      <th>Grains</th>\n",
       "      <th>Juices</th>\n",
       "      <th>Mushrooms</th>\n",
       "      <th>PetFood</th>\n",
       "      <th>Tofu</th>\n",
       "      <th>WildHarvested</th>\n",
       "      <th>updateTime</th>\n",
       "      <th>SocialMedia</th>\n",
       "      <th>cleanWildHarvested</th>\n",
       "      <th>cleanCheese</th>\n",
       "    </tr>\n",
       "  </thead>\n",
       "  <tbody>\n",
       "    <tr>\n",
       "      <th>0</th>\n",
       "      <td>1000618</td>\n",
       "      <td>100-Mile Market</td>\n",
       "      <td>http://www.peoplesfoodco-op.org/</td>\n",
       "      <td></td>\n",
       "      <td></td>\n",
       "      <td></td>\n",
       "      <td></td>\n",
       "      <td>507 Harrison Street</td>\n",
       "      <td>Kalamazoo</td>\n",
       "      <td>Kalamazoo</td>\n",
       "      <td>...</td>\n",
       "      <td>N</td>\n",
       "      <td>N</td>\n",
       "      <td>Y</td>\n",
       "      <td>N</td>\n",
       "      <td>N</td>\n",
       "      <td>Y</td>\n",
       "      <td>4/24/2014 18:22</td>\n",
       "      <td>0</td>\n",
       "      <td>1</td>\n",
       "      <td>1</td>\n",
       "    </tr>\n",
       "    <tr>\n",
       "      <th>1</th>\n",
       "      <td>1009364</td>\n",
       "      <td>106 S. Main Street Farmers Market</td>\n",
       "      <td>http://thetownofsixmile.wordpress.com/</td>\n",
       "      <td></td>\n",
       "      <td></td>\n",
       "      <td></td>\n",
       "      <td></td>\n",
       "      <td>106 S. Main Street</td>\n",
       "      <td>Six Mile</td>\n",
       "      <td></td>\n",
       "      <td>...</td>\n",
       "      <td></td>\n",
       "      <td></td>\n",
       "      <td></td>\n",
       "      <td></td>\n",
       "      <td></td>\n",
       "      <td></td>\n",
       "      <td>2013</td>\n",
       "      <td>0</td>\n",
       "      <td>0</td>\n",
       "      <td>0</td>\n",
       "    </tr>\n",
       "    <tr>\n",
       "      <th>2</th>\n",
       "      <td>1010691</td>\n",
       "      <td>10th Steet Community Farmers Market</td>\n",
       "      <td></td>\n",
       "      <td></td>\n",
       "      <td></td>\n",
       "      <td></td>\n",
       "      <td>http://agrimissouri.com/mo-grown/grodetail.php...</td>\n",
       "      <td>10th Street and Poplar</td>\n",
       "      <td>Lamar</td>\n",
       "      <td>Barton</td>\n",
       "      <td>...</td>\n",
       "      <td>N</td>\n",
       "      <td>N</td>\n",
       "      <td>N</td>\n",
       "      <td>N</td>\n",
       "      <td>N</td>\n",
       "      <td>N</td>\n",
       "      <td>10/28/2014 9:49</td>\n",
       "      <td>1</td>\n",
       "      <td>0</td>\n",
       "      <td>0</td>\n",
       "    </tr>\n",
       "    <tr>\n",
       "      <th>3</th>\n",
       "      <td>1002454</td>\n",
       "      <td>112st Madison Avenue</td>\n",
       "      <td></td>\n",
       "      <td></td>\n",
       "      <td></td>\n",
       "      <td></td>\n",
       "      <td></td>\n",
       "      <td>112th Madison Avenue</td>\n",
       "      <td>New York</td>\n",
       "      <td>New York</td>\n",
       "      <td>...</td>\n",
       "      <td>N</td>\n",
       "      <td>N</td>\n",
       "      <td>N</td>\n",
       "      <td>N</td>\n",
       "      <td>N</td>\n",
       "      <td>N</td>\n",
       "      <td>3/1/2012 10:38</td>\n",
       "      <td>0</td>\n",
       "      <td>0</td>\n",
       "      <td>0</td>\n",
       "    </tr>\n",
       "    <tr>\n",
       "      <th>4</th>\n",
       "      <td>1011100</td>\n",
       "      <td>12 South Farmers Market</td>\n",
       "      <td>http://www.12southfarmersmarket.com</td>\n",
       "      <td>12_South_Farmers_Market</td>\n",
       "      <td>@12southfrmsmkt</td>\n",
       "      <td></td>\n",
       "      <td>@12southfrmsmkt</td>\n",
       "      <td>3000 Granny White Pike</td>\n",
       "      <td>Nashville</td>\n",
       "      <td>Davidson</td>\n",
       "      <td>...</td>\n",
       "      <td>N</td>\n",
       "      <td>Y</td>\n",
       "      <td>Y</td>\n",
       "      <td>Y</td>\n",
       "      <td>N</td>\n",
       "      <td>N</td>\n",
       "      <td>5/1/2015 10:40</td>\n",
       "      <td>1</td>\n",
       "      <td>0</td>\n",
       "      <td>1</td>\n",
       "    </tr>\n",
       "  </tbody>\n",
       "</table>\n",
       "<p>5 rows × 63 columns</p>\n",
       "</div>"
      ],
      "text/plain": [
       "      FMID                           MarketName  \\\n",
       "0  1000618                      100-Mile Market   \n",
       "1  1009364    106 S. Main Street Farmers Market   \n",
       "2  1010691  10th Steet Community Farmers Market   \n",
       "3  1002454                 112st Madison Avenue   \n",
       "4  1011100              12 South Farmers Market   \n",
       "\n",
       "                                  Website                 Facebook  \\\n",
       "0        http://www.peoplesfoodco-op.org/                            \n",
       "1  http://thetownofsixmile.wordpress.com/                            \n",
       "2                                                                    \n",
       "3                                                                    \n",
       "4     http://www.12southfarmersmarket.com  12_South_Farmers_Market   \n",
       "\n",
       "           Twitter Youtube                                         OtherMedia  \\\n",
       "0                                                                               \n",
       "1                                                                               \n",
       "2                           http://agrimissouri.com/mo-grown/grodetail.php...   \n",
       "3                                                                               \n",
       "4  @12southfrmsmkt                                            @12southfrmsmkt   \n",
       "\n",
       "                   street       city     County     ...     Grains Juices  \\\n",
       "0     507 Harrison Street  Kalamazoo  Kalamazoo     ...          N      N   \n",
       "1      106 S. Main Street   Six Mile                ...                     \n",
       "2  10th Street and Poplar     Lamar      Barton     ...          N      N   \n",
       "3    112th Madison Avenue   New York   New York     ...          N      N   \n",
       "4  3000 Granny White Pike  Nashville   Davidson     ...          N      Y   \n",
       "\n",
       "  Mushrooms PetFood Tofu WildHarvested       updateTime SocialMedia  \\\n",
       "0         Y       N    N             Y  4/24/2014 18:22           0   \n",
       "1                                                  2013           0   \n",
       "2         N       N    N             N  10/28/2014 9:49           1   \n",
       "3         N       N    N             N   3/1/2012 10:38           0   \n",
       "4         Y       Y    N             N   5/1/2015 10:40           1   \n",
       "\n",
       "  cleanWildHarvested cleanCheese  \n",
       "0                  1           1  \n",
       "1                  0           0  \n",
       "2                  0           0  \n",
       "3                  0           0  \n",
       "4                  0           1  \n",
       "\n",
       "[5 rows x 63 columns]"
      ]
     },
     "execution_count": 376,
     "metadata": {},
     "output_type": "execute_result"
    }
   ],
   "source": [
    "markets['SocialMedia'] = markets.apply(lambda row: social (row),axis=1)\n",
    "\n",
    "markets['cleanWildHarvested'] = markets['WildHarvested'].replace({'N':0},regex=True).replace({'Y':1},regex=True).replace({' ':0},regex=True)\n",
    "markets['cleanCheese'] = markets['Cheese'].replace({'N':0},regex=True).replace({'Y':1},regex=True).replace({' ':0},regex=True)\n",
    "\n",
    "markets.head()"
   ]
  },
  {
   "cell_type": "code",
   "execution_count": 377,
   "metadata": {
    "collapsed": false
   },
   "outputs": [
    {
     "data": {
      "text/plain": [
       "<matplotlib.axes._subplots.AxesSubplot at 0x114194940>"
      ]
     },
     "execution_count": 377,
     "metadata": {},
     "output_type": "execute_result"
    },
    {
     "data": {
      "image/png": "[encoded data removed]",
      "text/plain": [
       "<matplotlib.figure.Figure at 0x11b312828>"
      ]
     },
     "metadata": {},
     "output_type": "display_data"
    }
   ],
   "source": [
    "CountbySocial = markets.groupby(markets['SocialMedia'])['FMID'].count()\n",
    "CountbySocial.plot(kind='bar')"
   ]
  },
  {
   "cell_type": "code",
   "execution_count": 378,
   "metadata": {
    "collapsed": false
   },
   "outputs": [],
   "source": [
    "#Clean the updateTime column and change the text into date format\n",
    "\n",
    "updateTime = markets['updateTime']\n",
    "markets['cleanUpdateTime'] = pd.to_datetime(pd.Series(updateTime))"
   ]
  },
  {
   "cell_type": "code",
   "execution_count": 379,
   "metadata": {
    "collapsed": false
   },
   "outputs": [
    {
     "data": {
      "text/plain": [
       "8471    2014\n",
       "8472    2015\n",
       "8473    2015\n",
       "8474    2009\n",
       "8475    2015\n",
       "Name: Year, dtype: int64"
      ]
     },
     "execution_count": 379,
     "metadata": {},
     "output_type": "execute_result"
    }
   ],
   "source": [
    "#Create year column to allow for counts by year\n",
    "\n",
    "markets['Year'] = markets['cleanUpdateTime'].dt.year\n",
    "markets['Year'].tail()"
   ]
  },
  {
   "cell_type": "code",
   "execution_count": 380,
   "metadata": {
    "collapsed": false
   },
   "outputs": [
    {
     "data": {
      "text/plain": [
       "Index(['FMID', 'MarketName', 'Website', 'Facebook', 'Twitter', 'Youtube',\n",
       "       'OtherMedia', 'street', 'city', 'County', 'State', 'zip', 'region',\n",
       "       'Season1Date', 'Season1Time', 'Season2Date', 'Season2Time',\n",
       "       'Season3Date', 'Season3Time', 'Season4Date', 'Season4Time', 'x', 'y',\n",
       "       'Location', 'Credit', 'WIC', 'WICcash', 'SFMNP', 'SNAP', 'Organic',\n",
       "       'Bakedgoods', 'Cheese', 'Crafts', 'Flowers', 'Eggs', 'Seafood', 'Herbs',\n",
       "       'Vegetables', 'Honey', 'Jams', 'Maple', 'Meat', 'Nursery', 'Nuts',\n",
       "       'Plants', 'Poultry', 'Prepared', 'Soap', 'Trees', 'Wine', 'Coffee',\n",
       "       'Beans', 'Fruits', 'Grains', 'Juices', 'Mushrooms', 'PetFood', 'Tofu',\n",
       "       'WildHarvested', 'updateTime', 'SocialMedia', 'cleanWildHarvested',\n",
       "       'cleanCheese', 'cleanUpdateTime', 'Year'],\n",
       "      dtype='object')"
      ]
     },
     "execution_count": 380,
     "metadata": {},
     "output_type": "execute_result"
    }
   ],
   "source": [
    "markets.columns"
   ]
  },
  {
   "cell_type": "code",
   "execution_count": 381,
   "metadata": {
    "collapsed": false
   },
   "outputs": [
    {
     "data": {
      "text/plain": [
       "dtype('float64')"
      ]
     },
     "execution_count": 381,
     "metadata": {},
     "output_type": "execute_result"
    }
   ],
   "source": [
    "markets1 = markets.merge(fruitveg, on = 'Year', how = 'left')\n",
    "markets1[['Fresh Fruit']].astype(float)\n",
    "markets1[['Processed Fruit Canning']].astype(float)\n",
    "markets1[['Processed Fruit Freeze']].astype(float)\n",
    "markets1[['Processed Fruit Dried']].astype(float)\n",
    "markets1[['Processed Fruit Juice']].astype(float)\n",
    "markets1[['Processed Fruit Other']].astype(float)\n",
    "markets1[['Fresh Vegetables']].astype(float)\n",
    "markets1[['Processed Vegetables Canning']].astype(float)\n",
    "markets1[['Processed Vegetables Freeze']].astype(float)\n",
    "markets1[['Processed Vegetables Dried']].astype(float)\n",
    "markets1[['Processed Vegetables Chips']].astype(float)\n",
    "markets1[['Processed Vegetables Legumes']].astype(float)\n",
    "markets1.replace(np.nan,' ',regex=True)\n",
    "\n",
    "markets1['Fresh Fruit'].dtype"
   ]
  },
  {
   "cell_type": "code",
   "execution_count": 382,
   "metadata": {
    "collapsed": false
   },
   "outputs": [
    {
     "data": {
      "text/plain": [
       "Index(['FMID', 'MarketName', 'Website', 'Facebook', 'Twitter', 'Youtube',\n",
       "       'OtherMedia', 'street', 'city', 'County', 'State', 'zip', 'region',\n",
       "       'Season1Date', 'Season1Time', 'Season2Date', 'Season2Time',\n",
       "       'Season3Date', 'Season3Time', 'Season4Date', 'Season4Time', 'x', 'y',\n",
       "       'Location', 'Credit', 'WIC', 'WICcash', 'SFMNP', 'SNAP', 'Organic',\n",
       "       'Bakedgoods', 'Cheese', 'Crafts', 'Flowers', 'Eggs', 'Seafood', 'Herbs',\n",
       "       'Vegetables', 'Honey', 'Jams', 'Maple', 'Meat', 'Nursery', 'Nuts',\n",
       "       'Plants', 'Poultry', 'Prepared', 'Soap', 'Trees', 'Wine', 'Coffee',\n",
       "       'Beans', 'Fruits', 'Grains', 'Juices', 'Mushrooms', 'PetFood', 'Tofu',\n",
       "       'WildHarvested', 'updateTime', 'SocialMedia', 'cleanWildHarvested',\n",
       "       'cleanCheese', 'cleanUpdateTime', 'Year', 'freshfruit', 'procfruitcan',\n",
       "       'procfruitfreeze', 'Processed Fruit Dried', 'procfruitjuice',\n",
       "       'procfruitother', 'freshveg', 'procvegcan', 'procvegfreeze',\n",
       "       'procvegdried', 'procvegchips', 'procveglegumes'],\n",
       "      dtype='object')"
      ]
     },
     "execution_count": 382,
     "metadata": {},
     "output_type": "execute_result"
    }
   ],
   "source": [
    "markets1.rename(columns={'Fresh Fruit': 'freshfruit', 'Processed Fruit Canning': 'procfruitcan', 'Processed Fruit Freeze': \n",
    "                         'procfruitfreeze', 'Processed Fruit Juice': 'procfruitjuice', 'Processed Fruit Other': 'procfruitother', \n",
    "                         'Fresh Vegetables': 'freshveg', 'Processed Vegetables Canning': 'procvegcan', \n",
    "                         'Processed Vegetables Freeze': 'procvegfreeze', 'Processed Vegetables Dried': 'procvegdried', \n",
    "                         'Processed Vegetables Chips': 'procvegchips', 'Processed Vegetables Legumes': 'procveglegumes', \n",
    "                        }, inplace=True)\n",
    "markets1.columns"
   ]
  },
  {
   "cell_type": "code",
   "execution_count": 383,
   "metadata": {
    "collapsed": false
   },
   "outputs": [
    {
     "data": {
      "text/plain": [
       "0       187\n",
       "1       187\n",
       "2       187\n",
       "3       191\n",
       "4       187\n",
       "5       187\n",
       "6       187\n",
       "7       187\n",
       "8       185\n",
       "9       187\n",
       "10      187\n",
       "11      185\n",
       "12      187\n",
       "13      187\n",
       "14      187\n",
       "15      187\n",
       "16      187\n",
       "17      187\n",
       "18      187\n",
       "19      187\n",
       "20      187\n",
       "21      187\n",
       "22      187\n",
       "23      187\n",
       "24      187\n",
       "25      187\n",
       "26      187\n",
       "27      191\n",
       "28      191\n",
       "29      187\n",
       "       ... \n",
       "8446    185\n",
       "8447    187\n",
       "8448    187\n",
       "8449    187\n",
       "8450    187\n",
       "8451    185\n",
       "8452    185\n",
       "8453    185\n",
       "8454    191\n",
       "8455    187\n",
       "8456    187\n",
       "8457    187\n",
       "8458    185\n",
       "8459    185\n",
       "8460    191\n",
       "8461    191\n",
       "8462    187\n",
       "8463    187\n",
       "8464    191\n",
       "8465    187\n",
       "8466    191\n",
       "8467    190\n",
       "8468    190\n",
       "8469    185\n",
       "8470    185\n",
       "8471    187\n",
       "8472    187\n",
       "8473    187\n",
       "8474    185\n",
       "8475    187\n",
       "Name: freshveg, dtype: int64"
      ]
     },
     "execution_count": 383,
     "metadata": {},
     "output_type": "execute_result"
    }
   ],
   "source": [
    "markets1['freshveg'].convert_objects(convert_numeric=True).fillna(markets1['freshveg'].mean()).astype(int)\n"
   ]
  },
  {
   "cell_type": "code",
   "execution_count": 384,
   "metadata": {
    "collapsed": false
   },
   "outputs": [
    {
     "data": {
      "text/plain": [
       "0       0\n",
       "1       0\n",
       "2       1\n",
       "3       0\n",
       "4       1\n",
       "5       1\n",
       "6       1\n",
       "7       1\n",
       "8       0\n",
       "9       0\n",
       "10      0\n",
       "11      0\n",
       "12      0\n",
       "13      1\n",
       "14      1\n",
       "15      1\n",
       "16      1\n",
       "17      0\n",
       "18      0\n",
       "19      1\n",
       "20      0\n",
       "21      0\n",
       "22      1\n",
       "23      1\n",
       "24      1\n",
       "25      1\n",
       "26      0\n",
       "27      0\n",
       "28      0\n",
       "29      0\n",
       "       ..\n",
       "8446    0\n",
       "8447    1\n",
       "8448    1\n",
       "8449    1\n",
       "8450    1\n",
       "8451    0\n",
       "8452    0\n",
       "8453    0\n",
       "8454    0\n",
       "8455    1\n",
       "8456    1\n",
       "8457    1\n",
       "8458    0\n",
       "8459    0\n",
       "8460    0\n",
       "8461    0\n",
       "8462    1\n",
       "8463    0\n",
       "8464    1\n",
       "8465    1\n",
       "8466    0\n",
       "8467    0\n",
       "8468    0\n",
       "8469    0\n",
       "8470    0\n",
       "8471    1\n",
       "8472    1\n",
       "8473    1\n",
       "8474    0\n",
       "8475    0\n",
       "Name: SocialMedia, dtype: int64"
      ]
     },
     "execution_count": 384,
     "metadata": {},
     "output_type": "execute_result"
    }
   ],
   "source": [
    "markets1['SocialMedia'].convert_objects(convert_numeric=True)"
   ]
  },
  {
   "cell_type": "markdown",
   "metadata": {},
   "source": [
    "### KNeighborsClassifier"
   ]
  },
  {
   "cell_type": "code",
   "execution_count": 385,
   "metadata": {
    "collapsed": false
   },
   "outputs": [],
   "source": [
    "from sklearn.cross_validation import train_test_split\n",
    "\n",
    "# Create the train and test sets\n",
    "X = markets1[['SocialMedia']].values\n",
    "y = markets1.State.ravel()\n",
    "\n",
    "# create 80%-20% train-test split\n",
    "X_train, X_test, y_train, y_test = train_test_split(X, y, test_size=0.2)\n"
   ]
  },
  {
   "cell_type": "code",
   "execution_count": 386,
   "metadata": {
    "collapsed": false
   },
   "outputs": [
    {
     "name": "stdout",
     "output_type": "stream",
     "text": [
      "Shape of Training Sets\n",
      "X_train:  (6780, 1)\n",
      "y_train:  (6780,)\n",
      "\n",
      "Most Likely State without Social Media for Farmers' Markets:  ['Nevada']\n",
      "Most Likely State with Social Media for Farmers' Markets:  ['North Carolina']\n",
      "\n",
      "Predicted Probabilities:  [[ 0.  0.  0.  0.  0.  0.  0.  0.  0.  0.  0.  0.  0.  0.  0.  0.  0.  0.\n",
      "   0.  0.  0.  0.  0.  0.  0.  0.  0.  0.  0.  0.  0.  0.  0.  0.  1.  0.\n",
      "   0.  0.  0.  0.  0.  0.  0.  0.  0.  0.  0.  0.  0.  0.  0.  0.  0.  0.]]\n",
      "\n",
      "Train Score:  0.016814159292\n",
      "CV Score:  0.0176886792453\n"
     ]
    }
   ],
   "source": [
    "from sklearn.neighbors import KNeighborsClassifier\n",
    "\n",
    "print(\"Shape of Training Sets\")\n",
    "print(\"X_train: \", X_train.shape)\n",
    "print(\"y_train: \", y_train.shape)\n",
    "print()\n",
    "\n",
    "neigh = KNeighborsClassifier(n_neighbors=1)\n",
    "neigh.fit(X, y) \n",
    "train_score = neigh.score(X_train,y_train)\n",
    "cv_score = neigh.score(X_test,y_test)\n",
    "\n",
    "print(\"Most Likely State without Social Media for Farmers' Markets: \", neigh.predict([[0]]))\n",
    "print(\"Most Likely State with Social Media for Farmers' Markets: \", neigh.predict([[1]]))\n",
    "print()\n",
    "print(\"Predicted Probabilities: \",neigh.predict_proba([[2]]))  \n",
    "print()\n",
    "print(\"Train Score: \",train_score)  \n",
    "print(\"CV Score: \",cv_score)  "
   ]
  },
  {
   "cell_type": "markdown",
   "metadata": {},
   "source": [
    "### Logistic Regresion of Social Media Based on Fresh Fruit per Capita by Year"
   ]
  },
  {
   "cell_type": "code",
   "execution_count": 387,
   "metadata": {
    "collapsed": true
   },
   "outputs": [],
   "source": [
    "%matplotlib inline\n",
    "import matplotlib.pyplot as plt\n",
    "from sklearn.linear_model import LinearRegression\n",
    "from sklearn.linear_model import LogisticRegression\n",
    "from sklearn.grid_search import GridSearchCV"
   ]
  },
  {
   "cell_type": "code",
   "execution_count": 388,
   "metadata": {
    "collapsed": false
   },
   "outputs": [
    {
     "data": {
      "text/plain": [
       "[<matplotlib.lines.Line2D at 0x11b329eb8>]"
      ]
     },
     "execution_count": 388,
     "metadata": {},
     "output_type": "execute_result"
    },
    {
     "data": {
      "image/png": "[encoded data removed]",
      "text/plain": [
       "<matplotlib.figure.Figure at 0x11b329630>"
      ]
     },
     "metadata": {},
     "output_type": "display_data"
    }
   ],
   "source": [
    "# Set X to Year and y for Social Media. The purpose is to leverage the 0 and 1 values in the Social Media column\n",
    "# and use itself to find the probability either way\n",
    "\n",
    "X = markets1.Year.values\n",
    "y = markets1.SocialMedia.values\n",
    "fig, axes = plt.subplots(1,1, figsize=(12, 8))\n",
    "axes.set_ylim((-0.2, 1.2))\n",
    "plt.plot(X, y, 'o')"
   ]
  },
  {
   "cell_type": "code",
   "execution_count": 389,
   "metadata": {
    "collapsed": true
   },
   "outputs": [],
   "source": [
    "def fit_logistic(X_train, y_train, reg=0.0001, penalty=\"l2\"):\n",
    "    clf = LogisticRegression(C=reg, penalty=penalty)\n",
    "    clf.fit(X_train, y_train)\n",
    "    return clf\n",
    "\n",
    "def cv_optimize(X_train, y_train, paramslist, penalty=\"l2\", n_folds=10):\n",
    "    clf = LogisticRegression(penalty=penalty)\n",
    "    parameters = {\"C\": paramslist}\n",
    "    gs = GridSearchCV(clf, param_grid=parameters, cv=n_folds)\n",
    "    gs.fit(X_train, y_train)\n",
    "    return gs.best_params_, gs.best_score_\n",
    "\n",
    "def cv_and_fit(X_train, y_train, paramslist, penalty=\"l2\", n_folds=5):\n",
    "    bp, bs = cv_optimize(X_train, y_train, paramslist, penalty=penalty, n_folds=n_folds)\n",
    "    print(\"BP: {}, BS: {}\".format(bp, bs))\n",
    "    clf = fit_logistic(X_train, y_train, penalty=penalty, reg=bp['C'])\n",
    "    return clf"
   ]
  },
  {
   "cell_type": "code",
   "execution_count": 390,
   "metadata": {
    "collapsed": false
   },
   "outputs": [
    {
     "name": "stdout",
     "output_type": "stream",
     "text": [
      "BP: {'C': 0.0001}, BS: 0.610193487494101\n"
     ]
    }
   ],
   "source": [
    "clf=cv_and_fit(X.reshape(-1,1), y, np.logspace(-4, 5, num=100))"
   ]
  },
  {
   "cell_type": "code",
   "execution_count": 391,
   "metadata": {
    "collapsed": false
   },
   "outputs": [
    {
     "data": {
      "text/html": [
       "<div>\n",
       "<table border=\"1\" class=\"dataframe\">\n",
       "  <thead>\n",
       "    <tr style=\"text-align: right;\">\n",
       "      <th>Predicted</th>\n",
       "      <th>0</th>\n",
       "    </tr>\n",
       "    <tr>\n",
       "      <th>Actual</th>\n",
       "      <th></th>\n",
       "    </tr>\n",
       "  </thead>\n",
       "  <tbody>\n",
       "    <tr>\n",
       "      <th>0</th>\n",
       "      <td>5172</td>\n",
       "    </tr>\n",
       "    <tr>\n",
       "      <th>1</th>\n",
       "      <td>3304</td>\n",
       "    </tr>\n",
       "  </tbody>\n",
       "</table>\n",
       "</div>"
      ],
      "text/plain": [
       "Predicted     0\n",
       "Actual         \n",
       "0          5172\n",
       "1          3304"
      ]
     },
     "execution_count": 391,
     "metadata": {},
     "output_type": "execute_result"
    }
   ],
   "source": [
    "pd.crosstab(y, clf.predict(X.reshape(-1,1)), rownames=[\"Actual\"], colnames=[\"Predicted\"])"
   ]
  },
  {
   "cell_type": "markdown",
   "metadata": {},
   "source": [
    "### Try putting Social Media against Fresh Vegetables (And, Feature Scaling)"
   ]
  },
  {
   "cell_type": "code",
   "execution_count": 443,
   "metadata": {
    "collapsed": false
   },
   "outputs": [
    {
     "data": {
      "text/plain": [
       "0    187\n",
       "1    187\n",
       "2    187\n",
       "3    191\n",
       "4    187\n",
       "Name: freshveg2, dtype: int64"
      ]
     },
     "execution_count": 443,
     "metadata": {},
     "output_type": "execute_result"
    }
   ],
   "source": [
    "markets1['freshveg2'] = markets1['freshveg'].convert_objects(convert_numeric=True).fillna(markets1['freshveg'].mean()).astype(int)\n",
    "markets1['freshveg2'].head()"
   ]
  },
  {
   "cell_type": "code",
   "execution_count": 446,
   "metadata": {
    "collapsed": false
   },
   "outputs": [
    {
     "data": {
      "text/plain": [
       "[<matplotlib.lines.Line2D at 0x120d82390>]"
      ]
     },
     "execution_count": 446,
     "metadata": {},
     "output_type": "execute_result"
    },
    {
     "data": {
      "image/png": "[encoded data removed]",
      "text/plain": [
       "<matplotlib.figure.Figure at 0x120d82588>"
      ]
     },
     "metadata": {},
     "output_type": "display_data"
    }
   ],
   "source": [
    "# Set X to freshveg and y for Social Media. The purpose is to leverage the 0 and 1 values in the Social Media column\n",
    "# and use itself to find the probability Social Media usage when fresh vegetables are sold at the farmers' markets.\n",
    "\n",
    "# Try feature scaling to bring the per Capita fresh vegetable consumption by year data merged into the farmers' market\n",
    "# data.\n",
    "\n",
    "from sklearn import preprocessing\n",
    "\n",
    "X = markets1.freshveg2.values\n",
    "y = markets1.SocialMedia.values\n",
    "\n",
    "#min_max_scaler = preprocessing.MinMaxScaler(X)\n",
    "#X_train_minmax = min_max_scaler.fit_transform(X_train)\n",
    "#print(X_train_minmax)\n",
    "\n",
    "fig, axes = plt.subplots(1,1, figsize=(10,5))\n",
    "axes.set_ylim((-0.2, 1.2))\n",
    "plt.plot(X, y, 'o')"
   ]
  },
  {
   "cell_type": "code",
   "execution_count": 449,
   "metadata": {
    "collapsed": false
   },
   "outputs": [
    {
     "data": {
      "text/plain": [
       "(8476,)"
      ]
     },
     "execution_count": 449,
     "metadata": {},
     "output_type": "execute_result"
    }
   ],
   "source": [
    "X.shape"
   ]
  },
  {
   "cell_type": "code",
   "execution_count": 450,
   "metadata": {
    "collapsed": false
   },
   "outputs": [
    {
     "data": {
      "text/plain": [
       "(8476,)"
      ]
     },
     "execution_count": 450,
     "metadata": {},
     "output_type": "execute_result"
    }
   ],
   "source": [
    "y.shape"
   ]
  },
  {
   "cell_type": "code",
   "execution_count": 447,
   "metadata": {
    "collapsed": false
   },
   "outputs": [],
   "source": [
    "def fit_logistic(X_train, y_train, reg=0.0001, penalty=\"l2\"):\n",
    "    clf = LogisticRegression(C=reg, penalty=penalty)\n",
    "    clf.fit(X_train, y_train)\n",
    "    return clf\n",
    "\n",
    "def cv_optimize(X_train, y_train, paramslist, penalty=\"l2\", n_folds=10):\n",
    "    clf = LogisticRegression(penalty=penalty)\n",
    "    parameters = {\"C\": paramslist}\n",
    "    gs = GridSearchCV(clf, param_grid=parameters, cv=n_folds)\n",
    "    gs.fit(X_train, y_train)\n",
    "    return gs.best_params_, gs.best_score_\n",
    "\n",
    "def cv_and_fit(X_train, y_train, paramslist, penalty=\"l2\", n_folds=5):\n",
    "    bp, bs = cv_optimize(X_train_minmax, y_train, paramslist, penalty=penalty, n_folds=n_folds)\n",
    "    print(\"BP: {}, BS: {}\".format(bp, bs))\n",
    "    clf = fit_logistic(X_train, y_train, penalty=penalty, reg=bp['C'])\n",
    "    return clf"
   ]
  },
  {
   "cell_type": "code",
   "execution_count": 448,
   "metadata": {
    "collapsed": false
   },
   "outputs": [
    {
     "ename": "ValueError",
     "evalue": "Found arrays with inconsistent numbers of samples: [6780 8476]",
     "output_type": "error",
     "traceback": [
      "\u001b[0;31m---------------------------------------------------------------------------\u001b[0m",
      "\u001b[0;31mValueError\u001b[0m                                Traceback (most recent call last)",
      "\u001b[0;32m<ipython-input-448-c5a485bf9435>\u001b[0m in \u001b[0;36m<module>\u001b[0;34m()\u001b[0m\n\u001b[0;32m----> 1\u001b[0;31m \u001b[0mclf\u001b[0m\u001b[0;34m=\u001b[0m\u001b[0mcv_and_fit\u001b[0m\u001b[0;34m(\u001b[0m\u001b[0mX\u001b[0m\u001b[0;34m.\u001b[0m\u001b[0mreshape\u001b[0m\u001b[0;34m(\u001b[0m\u001b[0;34m-\u001b[0m\u001b[0;36m1\u001b[0m\u001b[0;34m,\u001b[0m\u001b[0;36m1\u001b[0m\u001b[0;34m)\u001b[0m\u001b[0;34m,\u001b[0m \u001b[0my\u001b[0m\u001b[0;34m,\u001b[0m \u001b[0mnp\u001b[0m\u001b[0;34m.\u001b[0m\u001b[0mlogspace\u001b[0m\u001b[0;34m(\u001b[0m\u001b[0;34m-\u001b[0m\u001b[0;36m4\u001b[0m\u001b[0;34m,\u001b[0m \u001b[0;36m5\u001b[0m\u001b[0;34m,\u001b[0m \u001b[0mnum\u001b[0m\u001b[0;34m=\u001b[0m\u001b[0;36m100\u001b[0m\u001b[0;34m)\u001b[0m\u001b[0;34m)\u001b[0m\u001b[0;34m\u001b[0m\u001b[0m\n\u001b[0m",
      "\u001b[0;32m<ipython-input-447-ede82ad8b91e>\u001b[0m in \u001b[0;36mcv_and_fit\u001b[0;34m(X_train, y_train, paramslist, penalty, n_folds)\u001b[0m\n\u001b[1;32m     12\u001b[0m \u001b[0;34m\u001b[0m\u001b[0m\n\u001b[1;32m     13\u001b[0m \u001b[0;32mdef\u001b[0m \u001b[0mcv_and_fit\u001b[0m\u001b[0;34m(\u001b[0m\u001b[0mX_train\u001b[0m\u001b[0;34m,\u001b[0m \u001b[0my_train\u001b[0m\u001b[0;34m,\u001b[0m \u001b[0mparamslist\u001b[0m\u001b[0;34m,\u001b[0m \u001b[0mpenalty\u001b[0m\u001b[0;34m=\u001b[0m\u001b[0;34m\"l2\"\u001b[0m\u001b[0;34m,\u001b[0m \u001b[0mn_folds\u001b[0m\u001b[0;34m=\u001b[0m\u001b[0;36m5\u001b[0m\u001b[0;34m)\u001b[0m\u001b[0;34m:\u001b[0m\u001b[0;34m\u001b[0m\u001b[0m\n\u001b[0;32m---> 14\u001b[0;31m     \u001b[0mbp\u001b[0m\u001b[0;34m,\u001b[0m \u001b[0mbs\u001b[0m \u001b[0;34m=\u001b[0m \u001b[0mcv_optimize\u001b[0m\u001b[0;34m(\u001b[0m\u001b[0mX_train_minmax\u001b[0m\u001b[0;34m,\u001b[0m \u001b[0my_train\u001b[0m\u001b[0;34m,\u001b[0m \u001b[0mparamslist\u001b[0m\u001b[0;34m,\u001b[0m \u001b[0mpenalty\u001b[0m\u001b[0;34m=\u001b[0m\u001b[0mpenalty\u001b[0m\u001b[0;34m,\u001b[0m \u001b[0mn_folds\u001b[0m\u001b[0;34m=\u001b[0m\u001b[0mn_folds\u001b[0m\u001b[0;34m)\u001b[0m\u001b[0;34m\u001b[0m\u001b[0m\n\u001b[0m\u001b[1;32m     15\u001b[0m     \u001b[0mprint\u001b[0m\u001b[0;34m(\u001b[0m\u001b[0;34m\"BP: {}, BS: {}\"\u001b[0m\u001b[0;34m.\u001b[0m\u001b[0mformat\u001b[0m\u001b[0;34m(\u001b[0m\u001b[0mbp\u001b[0m\u001b[0;34m,\u001b[0m \u001b[0mbs\u001b[0m\u001b[0;34m)\u001b[0m\u001b[0;34m)\u001b[0m\u001b[0;34m\u001b[0m\u001b[0m\n\u001b[1;32m     16\u001b[0m     \u001b[0mclf\u001b[0m \u001b[0;34m=\u001b[0m \u001b[0mfit_logistic\u001b[0m\u001b[0;34m(\u001b[0m\u001b[0mX_train\u001b[0m\u001b[0;34m,\u001b[0m \u001b[0my_train\u001b[0m\u001b[0;34m,\u001b[0m \u001b[0mpenalty\u001b[0m\u001b[0;34m=\u001b[0m\u001b[0mpenalty\u001b[0m\u001b[0;34m,\u001b[0m \u001b[0mreg\u001b[0m\u001b[0;34m=\u001b[0m\u001b[0mbp\u001b[0m\u001b[0;34m[\u001b[0m\u001b[0;34m'C'\u001b[0m\u001b[0;34m]\u001b[0m\u001b[0;34m)\u001b[0m\u001b[0;34m\u001b[0m\u001b[0m\n",
      "\u001b[0;32m<ipython-input-447-ede82ad8b91e>\u001b[0m in \u001b[0;36mcv_optimize\u001b[0;34m(X_train, y_train, paramslist, penalty, n_folds)\u001b[0m\n\u001b[1;32m      8\u001b[0m     \u001b[0mparameters\u001b[0m \u001b[0;34m=\u001b[0m \u001b[0;34m{\u001b[0m\u001b[0;34m\"C\"\u001b[0m\u001b[0;34m:\u001b[0m \u001b[0mparamslist\u001b[0m\u001b[0;34m}\u001b[0m\u001b[0;34m\u001b[0m\u001b[0m\n\u001b[1;32m      9\u001b[0m     \u001b[0mgs\u001b[0m \u001b[0;34m=\u001b[0m \u001b[0mGridSearchCV\u001b[0m\u001b[0;34m(\u001b[0m\u001b[0mclf\u001b[0m\u001b[0;34m,\u001b[0m \u001b[0mparam_grid\u001b[0m\u001b[0;34m=\u001b[0m\u001b[0mparameters\u001b[0m\u001b[0;34m,\u001b[0m \u001b[0mcv\u001b[0m\u001b[0;34m=\u001b[0m\u001b[0mn_folds\u001b[0m\u001b[0;34m)\u001b[0m\u001b[0;34m\u001b[0m\u001b[0m\n\u001b[0;32m---> 10\u001b[0;31m     \u001b[0mgs\u001b[0m\u001b[0;34m.\u001b[0m\u001b[0mfit\u001b[0m\u001b[0;34m(\u001b[0m\u001b[0mX_train\u001b[0m\u001b[0;34m,\u001b[0m \u001b[0my_train\u001b[0m\u001b[0;34m)\u001b[0m\u001b[0;34m\u001b[0m\u001b[0m\n\u001b[0m\u001b[1;32m     11\u001b[0m     \u001b[0;32mreturn\u001b[0m \u001b[0mgs\u001b[0m\u001b[0;34m.\u001b[0m\u001b[0mbest_params_\u001b[0m\u001b[0;34m,\u001b[0m \u001b[0mgs\u001b[0m\u001b[0;34m.\u001b[0m\u001b[0mbest_score_\u001b[0m\u001b[0;34m\u001b[0m\u001b[0m\n\u001b[1;32m     12\u001b[0m \u001b[0;34m\u001b[0m\u001b[0m\n",
      "\u001b[0;32m/Users/sharonwang/anaconda/lib/python3.4/site-packages/sklearn/grid_search.py\u001b[0m in \u001b[0;36mfit\u001b[0;34m(self, X, y)\u001b[0m\n\u001b[1;32m    730\u001b[0m \u001b[0;34m\u001b[0m\u001b[0m\n\u001b[1;32m    731\u001b[0m         \"\"\"\n\u001b[0;32m--> 732\u001b[0;31m         \u001b[0;32mreturn\u001b[0m \u001b[0mself\u001b[0m\u001b[0;34m.\u001b[0m\u001b[0m_fit\u001b[0m\u001b[0;34m(\u001b[0m\u001b[0mX\u001b[0m\u001b[0;34m,\u001b[0m \u001b[0my\u001b[0m\u001b[0;34m,\u001b[0m \u001b[0mParameterGrid\u001b[0m\u001b[0;34m(\u001b[0m\u001b[0mself\u001b[0m\u001b[0;34m.\u001b[0m\u001b[0mparam_grid\u001b[0m\u001b[0;34m)\u001b[0m\u001b[0;34m)\u001b[0m\u001b[0;34m\u001b[0m\u001b[0m\n\u001b[0m\u001b[1;32m    733\u001b[0m \u001b[0;34m\u001b[0m\u001b[0m\n\u001b[1;32m    734\u001b[0m \u001b[0;34m\u001b[0m\u001b[0m\n",
      "\u001b[0;32m/Users/sharonwang/anaconda/lib/python3.4/site-packages/sklearn/grid_search.py\u001b[0m in \u001b[0;36m_fit\u001b[0;34m(self, X, y, parameter_iterable)\u001b[0m\n\u001b[1;32m    475\u001b[0m \u001b[0;34m\u001b[0m\u001b[0m\n\u001b[1;32m    476\u001b[0m         \u001b[0mn_samples\u001b[0m \u001b[0;34m=\u001b[0m \u001b[0m_num_samples\u001b[0m\u001b[0;34m(\u001b[0m\u001b[0mX\u001b[0m\u001b[0;34m)\u001b[0m\u001b[0;34m\u001b[0m\u001b[0m\n\u001b[0;32m--> 477\u001b[0;31m         \u001b[0mX\u001b[0m\u001b[0;34m,\u001b[0m \u001b[0my\u001b[0m \u001b[0;34m=\u001b[0m \u001b[0mindexable\u001b[0m\u001b[0;34m(\u001b[0m\u001b[0mX\u001b[0m\u001b[0;34m,\u001b[0m \u001b[0my\u001b[0m\u001b[0;34m)\u001b[0m\u001b[0;34m\u001b[0m\u001b[0m\n\u001b[0m\u001b[1;32m    478\u001b[0m \u001b[0;34m\u001b[0m\u001b[0m\n\u001b[1;32m    479\u001b[0m         \u001b[0;32mif\u001b[0m \u001b[0my\u001b[0m \u001b[0;32mis\u001b[0m \u001b[0;32mnot\u001b[0m \u001b[0;32mNone\u001b[0m\u001b[0;34m:\u001b[0m\u001b[0;34m\u001b[0m\u001b[0m\n",
      "\u001b[0;32m/Users/sharonwang/anaconda/lib/python3.4/site-packages/sklearn/utils/validation.py\u001b[0m in \u001b[0;36mindexable\u001b[0;34m(*iterables)\u001b[0m\n\u001b[1;32m    197\u001b[0m         \u001b[0;32melse\u001b[0m\u001b[0;34m:\u001b[0m\u001b[0;34m\u001b[0m\u001b[0m\n\u001b[1;32m    198\u001b[0m             \u001b[0mresult\u001b[0m\u001b[0;34m.\u001b[0m\u001b[0mappend\u001b[0m\u001b[0;34m(\u001b[0m\u001b[0mnp\u001b[0m\u001b[0;34m.\u001b[0m\u001b[0marray\u001b[0m\u001b[0;34m(\u001b[0m\u001b[0mX\u001b[0m\u001b[0;34m)\u001b[0m\u001b[0;34m)\u001b[0m\u001b[0;34m\u001b[0m\u001b[0m\n\u001b[0;32m--> 199\u001b[0;31m     \u001b[0mcheck_consistent_length\u001b[0m\u001b[0;34m(\u001b[0m\u001b[0;34m*\u001b[0m\u001b[0mresult\u001b[0m\u001b[0;34m)\u001b[0m\u001b[0;34m\u001b[0m\u001b[0m\n\u001b[0m\u001b[1;32m    200\u001b[0m     \u001b[0;32mreturn\u001b[0m \u001b[0mresult\u001b[0m\u001b[0;34m\u001b[0m\u001b[0m\n\u001b[1;32m    201\u001b[0m \u001b[0;34m\u001b[0m\u001b[0m\n",
      "\u001b[0;32m/Users/sharonwang/anaconda/lib/python3.4/site-packages/sklearn/utils/validation.py\u001b[0m in \u001b[0;36mcheck_consistent_length\u001b[0;34m(*arrays)\u001b[0m\n\u001b[1;32m    172\u001b[0m     \u001b[0;32mif\u001b[0m \u001b[0mlen\u001b[0m\u001b[0;34m(\u001b[0m\u001b[0muniques\u001b[0m\u001b[0;34m)\u001b[0m \u001b[0;34m>\u001b[0m \u001b[0;36m1\u001b[0m\u001b[0;34m:\u001b[0m\u001b[0;34m\u001b[0m\u001b[0m\n\u001b[1;32m    173\u001b[0m         raise ValueError(\"Found arrays with inconsistent numbers of samples: \"\n\u001b[0;32m--> 174\u001b[0;31m                          \"%s\" % str(uniques))\n\u001b[0m\u001b[1;32m    175\u001b[0m \u001b[0;34m\u001b[0m\u001b[0m\n\u001b[1;32m    176\u001b[0m \u001b[0;34m\u001b[0m\u001b[0m\n",
      "\u001b[0;31mValueError\u001b[0m: Found arrays with inconsistent numbers of samples: [6780 8476]"
     ]
    }
   ],
   "source": [
    "clf=cv_and_fit(X.reshape(-1,1), y, np.logspace(-4, 5, num=100))"
   ]
  },
  {
   "cell_type": "code",
   "execution_count": null,
   "metadata": {
    "collapsed": false
   },
   "outputs": [],
   "source": [
    "pd.crosstab(y, clf.predict(X.reshape(-1,1)), rownames=[\"Actual\"], colnames=[\"Predicted\"])"
   ]
  },
  {
   "cell_type": "code",
   "execution_count": null,
   "metadata": {
    "collapsed": true
   },
   "outputs": [],
   "source": []
  }
 ],
 "metadata": {
  "kernelspec": {
   "display_name": "Python 3",
   "language": "python",
   "name": "python3"
  },
  "language_info": {
   "codemirror_mode": {
    "name": "ipython",
    "version": 3
   },
   "file_extension": ".py",
   "mimetype": "text/x-python",
   "name": "python",
   "nbconvert_exporter": "python",
   "pygments_lexer": "ipython3",
   "version": "3.4.3"
  }
 },
 "nbformat": 4,
 "nbformat_minor": 0
}
